{
 "cells": [
  {
   "cell_type": "code",
   "execution_count": 1,
   "metadata": {},
   "outputs": [],
   "source": [
    "import findspark\n",
    "\n",
    "findspark.init(\"/opt/bitnami/spark\")\n",
    "findspark.find()\n",
    "\n",
    "from pyspark.sql import SparkSession"
   ]
  },
  {
   "cell_type": "code",
   "execution_count": 2,
   "metadata": {},
   "outputs": [],
   "source": [
    "import pyspark.sql.functions as F\n",
    "import pyspark.sql.types as T"
   ]
  },
  {
   "cell_type": "code",
   "execution_count": 3,
   "metadata": {},
   "outputs": [
    {
     "data": {
      "text/plain": [
       "False"
      ]
     },
     "execution_count": 3,
     "metadata": {},
     "output_type": "execute_result"
    }
   ],
   "source": [
    "import dotenv\n",
    "from os import getenv\n",
    "\n",
    "dotenv.find_dotenv()\n",
    "dotenv.load_dotenv()"
   ]
  },
  {
   "cell_type": "code",
   "execution_count": 4,
   "metadata": {},
   "outputs": [
    {
     "name": "stderr",
     "output_type": "stream",
     "text": [
      "Setting default log level to \"WARN\".\n",
      "To adjust logging level use sc.setLogLevel(newLevel). For SparkR, use setLogLevel(newLevel).\n",
      "[2023-09-14 16:42:13] {NativeCodeLoader} WARN: Unable to load native-hadoop library for your platform... using builtin-java classes where applicable\n"
     ]
    }
   ],
   "source": [
    "spark = (\n",
    "    SparkSession.builder.master(\"spark://spark-master:7077\")\n",
    "    .appName(\"APP\")\n",
    "    .config(\n",
    "        map={\n",
    "            \"spark.hadoop.fs.s3a.access.key\": getenv(\"S3_ACCESS_KEY_ID\"),\n",
    "            \"spark.hadoop.fs.s3a.secret.key\": getenv(\"S3_SECRET_ACCESS_KEY\"),\n",
    "            \"spark.hadoop.fs.s3a.endpoint\": getenv(\"S3_ENDPOINT_URL\"),\n",
    "            \"spark.hadoop.fs.s3a.impl\": \"org.apache.hadoop.fs.s3a.S3AFileSystem\",\n",
    "        }\n",
    "    )\n",
    "    .getOrCreate()\n",
    ")"
   ]
  },
  {
   "cell_type": "code",
   "execution_count": 55,
   "metadata": {},
   "outputs": [
    {
     "name": "stderr",
     "output_type": "stream",
     "text": [
      "                                                                                \r"
     ]
    }
   ],
   "source": [
    "df = spark.read.parquet(\n",
    "    \"s3a://data-ice-lake-05/master/data/source/messenger-yp/events/event_type=message\"\n",
    ").where(F.col(\"date\") == \"2022-01-15\")\n"
   ]
  },
  {
   "cell_type": "code",
   "execution_count": 10,
   "metadata": {},
   "outputs": [
    {
     "name": "stderr",
     "output_type": "stream",
     "text": [
      "[Stage 2:>                                                          (0 + 1) / 1]\r"
     ]
    },
    {
     "name": "stdout",
     "output_type": "stream",
     "text": [
      "+--------+----------+-------------------+----------+--------------------+--------------------+------------------+------------+-------------+----------+----------+----------+-------------+-------------+--------------------+-----------------+--------------------+----+-------------------+------------------+----------+\n",
      "|  admins|channel_id|           datetime|media_type|           media_src|             message|message_channel_to|message_from|message_group|message_id|message_to|message_ts|reaction_from|reaction_type|subscription_channel|subscription_user|                tags|user|                lat|               lon|      date|\n",
      "+--------+----------+-------------------+----------+--------------------+--------------------+------------------+------------+-------------+----------+----------+----------+-------------+-------------+--------------------+-----------------+--------------------+----+-------------------+------------------+----------+\n",
      "|[141644]|    235517|2022-01-15 06:10:05|     image|https://company.c...|In the Silicon Va...|            235517|      141644|         null|   1112407|      null|      null|         null|         null|                null|             null|[edtech, computer...|null| -22.41422649304606| 150.9624324934393|2022-01-15|\n",
      "|[139249]|    892248|2022-01-15 01:13:01|     image|https://company.c...|\\nLoki.com. Основ...|            892248|      139249|         null|   1116784|      null|      null|         null|         null|                null|             null|[Информационная б...|null| -37.55281374042258|145.17190798992732|2022-01-15|\n",
      "| [13364]|    789287|2022-01-15 19:09:35|     image|https://company.c...|Update: Skype has...|            789287|       13364|         null|   1099647|      null|      null|         null|         null|                null|             null|[recruitment, job...|null| -37.91207235231254|144.46532665435495|2022-01-15|\n",
      "|[148948]|    631934|2022-01-15 08:54:14|     image|https://company.c...|\\n“Meet the new b...|            631934|      148948|         null|   1105544|      null|      null|         null|         null|                null|             null|[enterprise, ente...|null|-31.131805813773294|116.70062892558245|2022-01-15|\n",
      "|[114806]|    459805|2022-01-15 04:42:07|     image|https://company.c...|Читая статьи о ко...|            459805|      114806|         null|   1091160|      null|      null|         null|         null|                null|             null|      [Космонавтика]|null|  -32.4927957573949|152.02253885508998|2022-01-15|\n",
      "|[150732]|    746978|2022-01-15 14:37:33|     image|https://company.c...|Введение\\nКак и о...|            746978|      150732|         null|   1128021|      null|      null|         null|         null|                null|             null|[IT-инфраструктур...|null| -41.97304961782997|148.22616362666284|2022-01-15|\n",
      "|[140515]|    493514|2022-01-15 16:17:26|     image|https://company.c...|Google Cloud SQL ...|            493514|      140515|         null|   1099652|      null|      null|         null|         null|                null|             null|[mysql, aws-rds, ...|null| -33.19434309456422|152.17188629020444|2022-01-15|\n",
      "| [71555]|    990310|2022-01-15 22:28:06|     image|https://company.c...|It’s hard enough ...|            990310|       71555|         null|   1090569|      null|      null|         null|         null|                null|             null|[website-performa...|null|-27.374113585324665|153.43516024849816|2022-01-15|\n",
      "| [29761]|    398346|2022-01-15 04:30:59|     image|https://company.c...|Symbian Belle FP2...|            398346|       29761|         null|   1127238|      null|      null|         null|         null|                null|             null|[Гаджеты, Смартфо...|null| -35.04617340387817|149.18709732321346|2022-01-15|\n",
      "| [98399]|    512697|2022-01-15 16:46:21|     image|https://company.c...|The trio of synth...|            512697|       98399|         null|   1091501|      null|      null|         null|         null|                null|             null|[disrupt, prior-k...|null| -26.59964028416588|152.67888231295774|2022-01-15|\n",
      "+--------+----------+-------------------+----------+--------------------+--------------------+------------------+------------+-------------+----------+----------+----------+-------------+-------------+--------------------+-----------------+--------------------+----+-------------------+------------------+----------+\n",
      "only showing top 10 rows\n",
      "\n"
     ]
    },
    {
     "name": "stderr",
     "output_type": "stream",
     "text": [
      "                                                                                \r"
     ]
    }
   ],
   "source": [
    "df.show(10)"
   ]
  },
  {
   "cell_type": "code",
   "execution_count": 14,
   "metadata": {},
   "outputs": [
    {
     "name": "stdout",
     "output_type": "stream",
     "text": [
      "== Optimized Logical Plan ==\n",
      "Filter (isnotnull(date#20) AND (date#20 = 2022-01-15)), Statistics(sizeInBytes=149.0 MiB)\n",
      "+- Relation [admins#0,channel_id#1L,datetime#2,media_type#3,media_src#4,message#5,message_channel_to#6L,message_from#7L,message_group#8L,message_id#9L,message_to#10L,message_ts#11,reaction_from#12,reaction_type#13,subscription_channel#14L,subscription_user#15,tags#16,user#17,lat#18,lon#19,date#20] parquet, Statistics(sizeInBytes=149.0 MiB)\n",
      "\n",
      "== Physical Plan ==\n",
      "*(1) ColumnarToRow\n",
      "+- FileScan parquet [admins#0,channel_id#1L,datetime#2,media_type#3,media_src#4,message#5,message_channel_to#6L,message_from#7L,message_group#8L,message_id#9L,message_to#10L,message_ts#11,reaction_from#12,reaction_type#13,subscription_channel#14L,subscription_user#15,tags#16,user#17,lat#18,lon#19,date#20] Batched: true, DataFilters: [], Format: Parquet, Location: InMemoryFileIndex(1 paths)[s3a://data-ice-lake-05/master/data/source/messenger-yp/events/event_ty..., PartitionFilters: [isnotnull(date#20), (date#20 = 2022-01-15)], PushedFilters: [], ReadSchema: struct<admins:array<bigint>,channel_id:bigint,datetime:timestamp,media_type:string,media_src:stri...\n",
      "\n",
      "\n"
     ]
    }
   ],
   "source": [
    "df.explain(mode='cost')"
   ]
  },
  {
   "cell_type": "code",
   "execution_count": 12,
   "metadata": {},
   "outputs": [
    {
     "name": "stdout",
     "output_type": "stream",
     "text": [
      "== Physical Plan ==\n",
      "* ColumnarToRow (2)\n",
      "+- Scan parquet  (1)\n",
      "\n",
      "\n",
      "(1) Scan parquet \n",
      "Output [21]: [admins#0, channel_id#1L, datetime#2, media_type#3, media_src#4, message#5, message_channel_to#6L, message_from#7L, message_group#8L, message_id#9L, message_to#10L, message_ts#11, reaction_from#12, reaction_type#13, subscription_channel#14L, subscription_user#15, tags#16, user#17, lat#18, lon#19, date#20]\n",
      "Batched: true\n",
      "Location: InMemoryFileIndex [s3a://data-ice-lake-05/master/data/source/messenger-yp/events/event_type=message]\n",
      "PartitionFilters: [isnotnull(date#20), (date#20 = 2022-01-15)]\n",
      "ReadSchema: struct<admins:array<bigint>,channel_id:bigint,datetime:timestamp,media_type:string,media_src:string,message:string,message_channel_to:bigint,message_from:bigint,message_group:bigint,message_id:bigint,message_to:bigint,message_ts:timestamp,reaction_from:string,reaction_type:string,subscription_channel:bigint,subscription_user:string,tags:array<string>,user:string,lat:double,lon:double>\n",
      "\n",
      "(2) ColumnarToRow [codegen id : 1]\n",
      "Input [21]: [admins#0, channel_id#1L, datetime#2, media_type#3, media_src#4, message#5, message_channel_to#6L, message_from#7L, message_group#8L, message_id#9L, message_to#10L, message_ts#11, reaction_from#12, reaction_type#13, subscription_channel#14L, subscription_user#15, tags#16, user#17, lat#18, lon#19, date#20]\n",
      "\n",
      "\n"
     ]
    }
   ],
   "source": [
    "df.explain(mode=\"formatted\")"
   ]
  },
  {
   "cell_type": "code",
   "execution_count": 13,
   "metadata": {},
   "outputs": [
    {
     "name": "stdout",
     "output_type": "stream",
     "text": [
      "== Parsed Logical Plan ==\n",
      "'Filter ('date = 2022-01-15)\n",
      "+- Relation [admins#0,channel_id#1L,datetime#2,media_type#3,media_src#4,message#5,message_channel_to#6L,message_from#7L,message_group#8L,message_id#9L,message_to#10L,message_ts#11,reaction_from#12,reaction_type#13,subscription_channel#14L,subscription_user#15,tags#16,user#17,lat#18,lon#19,date#20] parquet\n",
      "\n",
      "== Analyzed Logical Plan ==\n",
      "admins: array<bigint>, channel_id: bigint, datetime: timestamp, media_type: string, media_src: string, message: string, message_channel_to: bigint, message_from: bigint, message_group: bigint, message_id: bigint, message_to: bigint, message_ts: timestamp, reaction_from: string, reaction_type: string, subscription_channel: bigint, subscription_user: string, tags: array<string>, user: string, lat: double, lon: double, date: date\n",
      "Filter (date#20 = cast(2022-01-15 as date))\n",
      "+- Relation [admins#0,channel_id#1L,datetime#2,media_type#3,media_src#4,message#5,message_channel_to#6L,message_from#7L,message_group#8L,message_id#9L,message_to#10L,message_ts#11,reaction_from#12,reaction_type#13,subscription_channel#14L,subscription_user#15,tags#16,user#17,lat#18,lon#19,date#20] parquet\n",
      "\n",
      "== Optimized Logical Plan ==\n",
      "Filter (isnotnull(date#20) AND (date#20 = 2022-01-15))\n",
      "+- Relation [admins#0,channel_id#1L,datetime#2,media_type#3,media_src#4,message#5,message_channel_to#6L,message_from#7L,message_group#8L,message_id#9L,message_to#10L,message_ts#11,reaction_from#12,reaction_type#13,subscription_channel#14L,subscription_user#15,tags#16,user#17,lat#18,lon#19,date#20] parquet\n",
      "\n",
      "== Physical Plan ==\n",
      "*(1) ColumnarToRow\n",
      "+- FileScan parquet [admins#0,channel_id#1L,datetime#2,media_type#3,media_src#4,message#5,message_channel_to#6L,message_from#7L,message_group#8L,message_id#9L,message_to#10L,message_ts#11,reaction_from#12,reaction_type#13,subscription_channel#14L,subscription_user#15,tags#16,user#17,lat#18,lon#19,date#20] Batched: true, DataFilters: [], Format: Parquet, Location: InMemoryFileIndex(1 paths)[s3a://data-ice-lake-05/master/data/source/messenger-yp/events/event_ty..., PartitionFilters: [isnotnull(date#20), (date#20 = 2022-01-15)], PushedFilters: [], ReadSchema: struct<admins:array<bigint>,channel_id:bigint,datetime:timestamp,media_type:string,media_src:stri...\n",
      "\n"
     ]
    }
   ],
   "source": [
    "df.explain(mode=\"extended\")"
   ]
  },
  {
   "cell_type": "code",
   "execution_count": 16,
   "metadata": {},
   "outputs": [
    {
     "name": "stdout",
     "output_type": "stream",
     "text": [
      "root\n",
      " |-- admins: array (nullable = true)\n",
      " |    |-- element: long (containsNull = true)\n",
      " |-- channel_id: long (nullable = true)\n",
      " |-- datetime: timestamp (nullable = true)\n",
      " |-- media_type: string (nullable = true)\n",
      " |-- media_src: string (nullable = true)\n",
      " |-- message: string (nullable = true)\n",
      " |-- message_channel_to: long (nullable = true)\n",
      " |-- message_from: long (nullable = true)\n",
      " |-- message_group: long (nullable = true)\n",
      " |-- message_id: long (nullable = true)\n",
      " |-- message_to: long (nullable = true)\n",
      " |-- message_ts: timestamp (nullable = true)\n",
      " |-- reaction_from: string (nullable = true)\n",
      " |-- reaction_type: string (nullable = true)\n",
      " |-- subscription_channel: long (nullable = true)\n",
      " |-- subscription_user: string (nullable = true)\n",
      " |-- tags: array (nullable = true)\n",
      " |    |-- element: string (containsNull = true)\n",
      " |-- user: string (nullable = true)\n",
      " |-- lat: double (nullable = true)\n",
      " |-- lon: double (nullable = true)\n",
      " |-- date: date (nullable = true)\n",
      "\n"
     ]
    }
   ],
   "source": [
    "df.printSchema()"
   ]
  },
  {
   "cell_type": "code",
   "execution_count": 17,
   "metadata": {},
   "outputs": [
    {
     "name": "stderr",
     "output_type": "stream",
     "text": [
      "[Stage 3:>                                                          (0 + 1) / 1]\r"
     ]
    },
    {
     "name": "stdout",
     "output_type": "stream",
     "text": [
      "+--------+----------+-------------------+----------+--------------------+--------------------+------------------+------------+-------------+----------+----------+----------+-------------+-------------+--------------------+-----------------+--------------------+----+-------------------+------------------+----------+\n",
      "|  admins|channel_id|           datetime|media_type|           media_src|             message|message_channel_to|message_from|message_group|message_id|message_to|message_ts|reaction_from|reaction_type|subscription_channel|subscription_user|                tags|user|                lat|               lon|      date|\n",
      "+--------+----------+-------------------+----------+--------------------+--------------------+------------------+------------+-------------+----------+----------+----------+-------------+-------------+--------------------+-----------------+--------------------+----+-------------------+------------------+----------+\n",
      "|[141644]|    235517|2022-01-15 06:10:05|     image|https://company.c...|In the Silicon Va...|            235517|      141644|         null|   1112407|      null|      null|         null|         null|                null|             null|[edtech, computer...|null| -22.41422649304606| 150.9624324934393|2022-01-15|\n",
      "|[139249]|    892248|2022-01-15 01:13:01|     image|https://company.c...|\\nLoki.com. Основ...|            892248|      139249|         null|   1116784|      null|      null|         null|         null|                null|             null|[Информационная б...|null| -37.55281374042258|145.17190798992732|2022-01-15|\n",
      "| [13364]|    789287|2022-01-15 19:09:35|     image|https://company.c...|Update: Skype has...|            789287|       13364|         null|   1099647|      null|      null|         null|         null|                null|             null|[recruitment, job...|null| -37.91207235231254|144.46532665435495|2022-01-15|\n",
      "|[148948]|    631934|2022-01-15 08:54:14|     image|https://company.c...|\\n“Meet the new b...|            631934|      148948|         null|   1105544|      null|      null|         null|         null|                null|             null|[enterprise, ente...|null|-31.131805813773294|116.70062892558245|2022-01-15|\n",
      "|[114806]|    459805|2022-01-15 04:42:07|     image|https://company.c...|Читая статьи о ко...|            459805|      114806|         null|   1091160|      null|      null|         null|         null|                null|             null|      [Космонавтика]|null|  -32.4927957573949|152.02253885508998|2022-01-15|\n",
      "|[150732]|    746978|2022-01-15 14:37:33|     image|https://company.c...|Введение\\nКак и о...|            746978|      150732|         null|   1128021|      null|      null|         null|         null|                null|             null|[IT-инфраструктур...|null| -41.97304961782997|148.22616362666284|2022-01-15|\n",
      "|[140515]|    493514|2022-01-15 16:17:26|     image|https://company.c...|Google Cloud SQL ...|            493514|      140515|         null|   1099652|      null|      null|         null|         null|                null|             null|[mysql, aws-rds, ...|null| -33.19434309456422|152.17188629020444|2022-01-15|\n",
      "| [71555]|    990310|2022-01-15 22:28:06|     image|https://company.c...|It’s hard enough ...|            990310|       71555|         null|   1090569|      null|      null|         null|         null|                null|             null|[website-performa...|null|-27.374113585324665|153.43516024849816|2022-01-15|\n",
      "| [29761]|    398346|2022-01-15 04:30:59|     image|https://company.c...|Symbian Belle FP2...|            398346|       29761|         null|   1127238|      null|      null|         null|         null|                null|             null|[Гаджеты, Смартфо...|null| -35.04617340387817|149.18709732321346|2022-01-15|\n",
      "| [98399]|    512697|2022-01-15 16:46:21|     image|https://company.c...|The trio of synth...|            512697|       98399|         null|   1091501|      null|      null|         null|         null|                null|             null|[disrupt, prior-k...|null| -26.59964028416588|152.67888231295774|2022-01-15|\n",
      "+--------+----------+-------------------+----------+--------------------+--------------------+------------------+------------+-------------+----------+----------+----------+-------------+-------------+--------------------+-----------------+--------------------+----+-------------------+------------------+----------+\n",
      "only showing top 10 rows\n",
      "\n"
     ]
    },
    {
     "name": "stderr",
     "output_type": "stream",
     "text": [
      "                                                                                \r"
     ]
    }
   ],
   "source": [
    "df.show(10)"
   ]
  },
  {
   "cell_type": "code",
   "execution_count": 49,
   "metadata": {},
   "outputs": [],
   "source": [
    "df = (\n",
    "    df\n",
    "        .withColumn('admins', F.concat_ws(\",\", F.col(\"admins\")))\n",
    "        .withColumn('tags', F.concat_ws(\",\", F.col(\"tags\")))\n",
    ")"
   ]
  },
  {
   "cell_type": "code",
   "execution_count": 25,
   "metadata": {},
   "outputs": [
    {
     "name": "stdout",
     "output_type": "stream",
     "text": [
      "root\n",
      " |-- admins: string (nullable = false)\n",
      " |-- channel_id: long (nullable = true)\n",
      " |-- datetime: timestamp (nullable = true)\n",
      " |-- media_type: string (nullable = true)\n",
      " |-- media_src: string (nullable = true)\n",
      " |-- message: string (nullable = true)\n",
      " |-- message_channel_to: long (nullable = true)\n",
      " |-- message_from: long (nullable = true)\n",
      " |-- message_group: long (nullable = true)\n",
      " |-- message_id: long (nullable = true)\n",
      " |-- message_to: long (nullable = true)\n",
      " |-- message_ts: timestamp (nullable = true)\n",
      " |-- reaction_from: string (nullable = true)\n",
      " |-- reaction_type: string (nullable = true)\n",
      " |-- subscription_channel: long (nullable = true)\n",
      " |-- subscription_user: string (nullable = true)\n",
      " |-- tags: string (nullable = false)\n",
      " |-- user: string (nullable = true)\n",
      " |-- lat: double (nullable = true)\n",
      " |-- lon: double (nullable = true)\n",
      " |-- date: date (nullable = true)\n",
      "\n"
     ]
    }
   ],
   "source": [
    "df.printSchema()"
   ]
  },
  {
   "cell_type": "code",
   "execution_count": 42,
   "metadata": {},
   "outputs": [],
   "source": [
    "spark.conf.set(\"spark.hadoop.mapreduce.outputcommitter.factory.scheme.s3a\",\n",
    "               \"org.apache.hadoop.fs.s3a.commit.S3ACommitterFactory\")\n",
    "spark.conf.set(\"spark.hadoop.mapreduce.outputcommitter.factory.scheme.s3\",\n",
    "               \"org.apache.hadoop.fs.s3a.commit.S3ACommitterFactory\")\n",
    "\n",
    "\n",
    "spark.conf.set(\"spark.hadoop.fs.s3a.bucket.all.committer.magic.enabled\", True)\n"
   ]
  },
  {
   "cell_type": "code",
   "execution_count": 56,
   "metadata": {},
   "outputs": [
    {
     "name": "stderr",
     "output_type": "stream",
     "text": [
      "                                                                                \r"
     ]
    }
   ],
   "source": [
    "# df.write.partitionBy('date').csv(\n",
    "#     \"s3a://data-ice-lake-05/master/tmp/events/event_type=message\", mode=\"overwrite\", header=True, compression='gzip', sep=\"|\"\n",
    "# )\n",
    "\n",
    "df.write.partitionBy('date').parquet(\n",
    "    \"s3a://data-ice-lake-05/master/tmp/events/event_type=message\", mode=\"overwrite\", compression='gzip'\n",
    ")"
   ]
  },
  {
   "cell_type": "code",
   "execution_count": 29,
   "metadata": {},
   "outputs": [
    {
     "name": "stdout",
     "output_type": "stream",
     "text": [
      "== Physical Plan ==\n",
      "* Project (3)\n",
      "+- * ColumnarToRow (2)\n",
      "   +- Scan parquet  (1)\n",
      "\n",
      "\n",
      "(1) Scan parquet \n",
      "Output [21]: [admins#0, channel_id#1L, datetime#2, media_type#3, media_src#4, message#5, message_channel_to#6L, message_from#7L, message_group#8L, message_id#9L, message_to#10L, message_ts#11, reaction_from#12, reaction_type#13, subscription_channel#14L, subscription_user#15, tags#16, user#17, lat#18, lon#19, date#20]\n",
      "Batched: true\n",
      "Location: InMemoryFileIndex [s3a://data-ice-lake-05/master/data/source/messenger-yp/events/event_type=message]\n",
      "PartitionFilters: [isnotnull(date#20), (date#20 = 2022-01-15)]\n",
      "ReadSchema: struct<admins:array<bigint>,channel_id:bigint,datetime:timestamp,media_type:string,media_src:string,message:string,message_channel_to:bigint,message_from:bigint,message_group:bigint,message_id:bigint,message_to:bigint,message_ts:timestamp,reaction_from:string,reaction_type:string,subscription_channel:bigint,subscription_user:string,tags:array<string>,user:string,lat:double,lon:double>\n",
      "\n",
      "(2) ColumnarToRow [codegen id : 1]\n",
      "Input [21]: [admins#0, channel_id#1L, datetime#2, media_type#3, media_src#4, message#5, message_channel_to#6L, message_from#7L, message_group#8L, message_id#9L, message_to#10L, message_ts#11, reaction_from#12, reaction_type#13, subscription_channel#14L, subscription_user#15, tags#16, user#17, lat#18, lon#19, date#20]\n",
      "\n",
      "(3) Project [codegen id : 1]\n",
      "Output [21]: [concat_ws(,, cast(admins#0 as array<string>)) AS admins#598, channel_id#1L, datetime#2, media_type#3, media_src#4, message#5, message_channel_to#6L, message_from#7L, message_group#8L, message_id#9L, message_to#10L, message_ts#11, reaction_from#12, reaction_type#13, subscription_channel#14L, subscription_user#15, concat_ws(,, tags#16) AS tags#620, user#17, lat#18, lon#19, date#20]\n",
      "Input [21]: [admins#0, channel_id#1L, datetime#2, media_type#3, media_src#4, message#5, message_channel_to#6L, message_from#7L, message_group#8L, message_id#9L, message_to#10L, message_ts#11, reaction_from#12, reaction_type#13, subscription_channel#14L, subscription_user#15, tags#16, user#17, lat#18, lon#19, date#20]\n",
      "\n",
      "\n"
     ]
    }
   ],
   "source": [
    "df.explain(mode=\"formatted\")"
   ]
  },
  {
   "cell_type": "code",
   "execution_count": 57,
   "metadata": {},
   "outputs": [],
   "source": [
    "# df = spark.read.csv(\"s3a://data-ice-lake-05/master/tmp/events/event_type=message\", header=True,  sep=\"|\").where(F.col('date') == \"2022-01-15\")\n",
    "\n",
    "df = spark.read.parquet(\"s3a://data-ice-lake-05/master/tmp/events/event_type=message\").where(F.col('date') == \"2022-01-15\")"
   ]
  },
  {
   "cell_type": "code",
   "execution_count": 52,
   "metadata": {},
   "outputs": [
    {
     "name": "stdout",
     "output_type": "stream",
     "text": [
      "+--------------------+----------+--------------------+----------+--------------------+--------------------+------------------+------------+-------------+----------+----------+----------+-------------+-------------+--------------------+-----------------+----+----+----+----+----------+\n",
      "|              admins|channel_id|            datetime|media_type|           media_src|             message|message_channel_to|message_from|message_group|message_id|message_to|message_ts|reaction_from|reaction_type|subscription_channel|subscription_user|tags|user| lat| lon|      date|\n",
      "+--------------------+----------+--------------------+----------+--------------------+--------------------+------------------+------------+-------------+----------+----------+----------+-------------+-------------+--------------------+-----------------+----+----+----+----+----------+\n",
      "|              141644|    235517|2022-01-15T06:10:...|     image|https://company.c...|In the Silicon Va...|              null|        null|         null|      null|      null|      null|         null|         null|                null|             null|null|null|null|null|2022-01-15|\n",
      "|That’s all well a...|      null|                null|      null|                null|                null|              null|        null|         null|      null|      null|      null|         null|         null|                null|             null|null|null|null|null|2022-01-15|\n",
      "|That’s where Code...|      null|                null|      null|                null|                null|              null|        null|         null|      null|      null|      null|         null|         null|                null|             null|null|null|null|null|2022-01-15|\n",
      "|To help support t...|      null|                null|      null|                null|                null|              null|        null|         null|      null|      null|      null|         null|         null|                null|             null|null|null|null|null|2022-01-15|\n",
      "| With the growing...|      null|                null|      null|                null|                null|              null|        null|         null|      null|      null|      null|         null|         null|                null|             null|null|null|null|null|2022-01-15|\n",
      "|CodeHS operates o...|      null|                null|      null|                null|                null|              null|        null|         null|      null|      null|      null|         null|         null|                null|             null|null|null|null|null|2022-01-15|\n",
      "|Galant and Keeshi...|      null|                null|      null|                null|                null|              null|        null|         null|      null|      null|      null|         null|         null|                null|             null|null|null|null|null|2022-01-15|\n",
      "|But the answer is...|      null|                null|      null|                null|                null|              null|        null|         null|      null|      null|      null|         null|         null|                null|             null|null|null|null|null|2022-01-15|\n",
      "|Focusing, instead...|      null|                null|      null|                null|                null|              null|        null|         null|      null|      null|      null|         null|         null|                null|             null|null|null|null|null|2022-01-15|\n",
      "|That being said, ...|      null|                null|      null|                null|                null|              null|        null|         null|      null|      null|      null|         null|         null|                null|             null|null|null|null|null|2022-01-15|\n",
      "+--------------------+----------+--------------------+----------+--------------------+--------------------+------------------+------------+-------------+----------+----------+----------+-------------+-------------+--------------------+-----------------+----+----+----+----+----------+\n",
      "only showing top 10 rows\n",
      "\n"
     ]
    }
   ],
   "source": [
    "df.show(10)"
   ]
  },
  {
   "cell_type": "code",
   "execution_count": 53,
   "metadata": {},
   "outputs": [
    {
     "name": "stdout",
     "output_type": "stream",
     "text": [
      "== Physical Plan ==\n",
      "Scan csv  (1)\n",
      "\n",
      "\n",
      "(1) Scan csv \n",
      "Output [21]: [admins#1401, channel_id#1402, datetime#1403, media_type#1404, media_src#1405, message#1406, message_channel_to#1407, message_from#1408, message_group#1409, message_id#1410, message_to#1411, message_ts#1412, reaction_from#1413, reaction_type#1414, subscription_channel#1415, subscription_user#1416, tags#1417, user#1418, lat#1419, lon#1420, date#1421]\n",
      "Batched: false\n",
      "Location: InMemoryFileIndex [s3a://data-ice-lake-05/master/tmp/events/event_type=message]\n",
      "PartitionFilters: [isnotnull(date#1421), (date#1421 = 2022-01-15)]\n",
      "ReadSchema: struct<admins:string,channel_id:string,datetime:string,media_type:string,media_src:string,message:string,message_channel_to:string,message_from:string,message_group:string,message_id:string,message_to:string,message_ts:string,reaction_from:string,reaction_type:string,subscription_channel:string,subscription_user:string,tags:string,user:string,lat:string,lon:string>\n",
      "\n",
      "\n"
     ]
    }
   ],
   "source": [
    "# csv\n",
    "df.explain('formatted')"
   ]
  },
  {
   "cell_type": "code",
   "execution_count": 58,
   "metadata": {},
   "outputs": [
    {
     "name": "stdout",
     "output_type": "stream",
     "text": [
      "== Physical Plan ==\n",
      "* ColumnarToRow (2)\n",
      "+- Scan parquet  (1)\n",
      "\n",
      "\n",
      "(1) Scan parquet \n",
      "Output [21]: [admins#1657, channel_id#1658L, datetime#1659, media_type#1660, media_src#1661, message#1662, message_channel_to#1663L, message_from#1664L, message_group#1665L, message_id#1666L, message_to#1667L, message_ts#1668, reaction_from#1669, reaction_type#1670, subscription_channel#1671L, subscription_user#1672, tags#1673, user#1674, lat#1675, lon#1676, date#1677]\n",
      "Batched: true\n",
      "Location: InMemoryFileIndex [s3a://data-ice-lake-05/master/tmp/events/event_type=message]\n",
      "PartitionFilters: [isnotnull(date#1677), (date#1677 = 2022-01-15)]\n",
      "ReadSchema: struct<admins:array<bigint>,channel_id:bigint,datetime:timestamp,media_type:string,media_src:string,message:string,message_channel_to:bigint,message_from:bigint,message_group:bigint,message_id:bigint,message_to:bigint,message_ts:timestamp,reaction_from:string,reaction_type:string,subscription_channel:bigint,subscription_user:string,tags:array<string>,user:string,lat:double,lon:double>\n",
      "\n",
      "(2) ColumnarToRow [codegen id : 1]\n",
      "Input [21]: [admins#1657, channel_id#1658L, datetime#1659, media_type#1660, media_src#1661, message#1662, message_channel_to#1663L, message_from#1664L, message_group#1665L, message_id#1666L, message_to#1667L, message_ts#1668, reaction_from#1669, reaction_type#1670, subscription_channel#1671L, subscription_user#1672, tags#1673, user#1674, lat#1675, lon#1676, date#1677]\n",
      "\n",
      "\n"
     ]
    }
   ],
   "source": [
    "# parquet\n",
    "\n",
    "df.explain('formatted')"
   ]
  },
  {
   "cell_type": "code",
   "execution_count": 5,
   "metadata": {},
   "outputs": [
    {
     "name": "stderr",
     "output_type": "stream",
     "text": [
      "[2023-09-14 16:56:49] {MetricsConfig} WARN: Cannot locate configuration: tried hadoop-metrics2-s3a-file-system.properties,hadoop-metrics2.properties\n",
      "                                                                                \r"
     ]
    }
   ],
   "source": [
    "df = spark.read.parquet(\n",
    "    \"s3a://data-ice-lake-05/master/data/source/messenger-yp/events/event_type=message\", mergeSchema=True\n",
    ").where((F.col(\"date\") >= \"2022-01-15\") & (F.col('date') <= \"2022-05-15\"))"
   ]
  },
  {
   "cell_type": "code",
   "execution_count": 66,
   "metadata": {},
   "outputs": [
    {
     "name": "stdout",
     "output_type": "stream",
     "text": [
      "+--------+----------+-------------------+----------+--------------------+--------------------+------------------+------------+-------------+----------+----------+----------+-------------+-------------+--------------------+-----------------+--------------------+----+-------------------+------------------+----------+\n",
      "|  admins|channel_id|           datetime|media_type|           media_src|             message|message_channel_to|message_from|message_group|message_id|message_to|message_ts|reaction_from|reaction_type|subscription_channel|subscription_user|                tags|user|                lat|               lon|      date|\n",
      "+--------+----------+-------------------+----------+--------------------+--------------------+------------------+------------+-------------+----------+----------+----------+-------------+-------------+--------------------+-----------------+--------------------+----+-------------------+------------------+----------+\n",
      "|[137449]|     97347|2022-04-15 08:54:15|     image|https://company.c...|After what I’m to...|             97347|      137449|         null|   1131113|      null|      null|         null|         null|                null|             null| [stuart, eric-romo]|null| -27.55367198735507|153.64347562901185|2022-04-15|\n",
      "|[114310]|    680401|2022-04-15 17:20:52|     image|https://company.c...|The past few Disr...|            680401|      114310|         null|   1100796|      null|      null|         null|         null|                null|             null| [hardware, disrupt]|null|  -37.2129747993003|144.68703026701561|2022-04-15|\n",
      "|[167088]|    341164|2022-04-15 16:05:39|     image|https://company.c...|You’ve seen “Pint...|            341164|      167088|         null|   1136948|      null|      null|         null|         null|                null|             null|[Веб-дизайн, Java...|null| -37.15815717421168| 146.0008459610115|2022-04-15|\n",
      "|[107445]|    978416|2022-04-15 05:55:17|     image|https://company.c...|Pipedrive, which ...|            978416|      107445|         null|   1103148|      null|      null|         null|         null|                null|             null|[angelpad, bessem...|null|-27.124278247326103|153.25521531277874|2022-04-15|\n",
      "| [85992]|    471987|2022-04-15 09:05:08|     image|https://company.c...|Editor’s note: Gu...|            471987|       85992|         null|   1101187|      null|      null|         null|         null|                null|             null|[privacy, messagi...|null|-12.275004182309559|131.36219351773144|2022-04-15|\n",
      "| [61842]|    472203|2022-04-15 17:13:58|     image|https://company.c...|\\n\\nПлатежная сис...|            472203|       61842|         null|   1128517|      null|      null|         null|         null|                null|             null|[Законодательство...|null| -32.91299638354344|152.65984078993935|2022-04-15|\n",
      "| [40260]|    950431|2022-04-15 20:08:21|     image|https://company.c...|Update: That was ...|            950431|       40260|         null|   1097533|      null|      null|         null|         null|                null|             null|[sv-angel, lerer-...|null|-18.748316851188772| 146.8451742511597|2022-04-15|\n",
      "| [59062]|    328564|2022-04-15 19:29:57|     image|https://company.c...|\\n\\nNow that we h...|            328564|       59062|         null|   1093725|      null|      null|         null|         null|                null|             null|[weapons, guns, m...|null|-27.355364755396398| 154.0215852314748|2022-04-15|\n",
      "| [59129]|    312290|2022-04-15 04:13:24|     image|https://company.c...|The audience at D...|            312290|       59129|         null|   1094626|      null|      null|         null|         null|                null|             null|[disrupt, spotmin...|null|-33.653984400261855|151.30514851029554|2022-04-15|\n",
      "| [41723]|    939651|2022-04-15 03:56:13|     image|https://company.c...|College students ...|            939651|       41723|         null|   1127370|      null|      null|         null|         null|                null|             null|[campus-job, Адми...|null|-11.832410581146107|131.52745138224185|2022-04-15|\n",
      "+--------+----------+-------------------+----------+--------------------+--------------------+------------------+------------+-------------+----------+----------+----------+-------------+-------------+--------------------+-----------------+--------------------+----+-------------------+------------------+----------+\n",
      "only showing top 10 rows\n",
      "\n"
     ]
    }
   ],
   "source": [
    "df.show(10)"
   ]
  },
  {
   "cell_type": "code",
   "execution_count": 61,
   "metadata": {},
   "outputs": [
    {
     "name": "stdout",
     "output_type": "stream",
     "text": [
      "== Parsed Logical Plan ==\n",
      "'Filter (('date >= 2022-01-15) AND ('date <= 2022-02-15))\n",
      "+- Relation [admins#1700,channel_id#1701L,datetime#1702,media_type#1703,media_src#1704,message#1705,message_channel_to#1706L,message_from#1707L,message_group#1708L,message_id#1709L,message_to#1710L,message_ts#1711,reaction_from#1712,reaction_type#1713,subscription_channel#1714L,subscription_user#1715,tags#1716,user#1717,lat#1718,lon#1719,date#1720] parquet\n",
      "\n",
      "== Analyzed Logical Plan ==\n",
      "admins: array<bigint>, channel_id: bigint, datetime: timestamp, media_type: string, media_src: string, message: string, message_channel_to: bigint, message_from: bigint, message_group: bigint, message_id: bigint, message_to: bigint, message_ts: timestamp, reaction_from: string, reaction_type: string, subscription_channel: bigint, subscription_user: string, tags: array<string>, user: string, lat: double, lon: double, date: date\n",
      "Filter ((date#1720 >= cast(2022-01-15 as date)) AND (date#1720 <= cast(2022-02-15 as date)))\n",
      "+- Relation [admins#1700,channel_id#1701L,datetime#1702,media_type#1703,media_src#1704,message#1705,message_channel_to#1706L,message_from#1707L,message_group#1708L,message_id#1709L,message_to#1710L,message_ts#1711,reaction_from#1712,reaction_type#1713,subscription_channel#1714L,subscription_user#1715,tags#1716,user#1717,lat#1718,lon#1719,date#1720] parquet\n",
      "\n",
      "== Optimized Logical Plan ==\n",
      "Filter (isnotnull(date#1720) AND ((date#1720 >= 2022-01-15) AND (date#1720 <= 2022-02-15)))\n",
      "+- Relation [admins#1700,channel_id#1701L,datetime#1702,media_type#1703,media_src#1704,message#1705,message_channel_to#1706L,message_from#1707L,message_group#1708L,message_id#1709L,message_to#1710L,message_ts#1711,reaction_from#1712,reaction_type#1713,subscription_channel#1714L,subscription_user#1715,tags#1716,user#1717,lat#1718,lon#1719,date#1720] parquet\n",
      "\n",
      "== Physical Plan ==\n",
      "*(1) ColumnarToRow\n",
      "+- FileScan parquet [admins#1700,channel_id#1701L,datetime#1702,media_type#1703,media_src#1704,message#1705,message_channel_to#1706L,message_from#1707L,message_group#1708L,message_id#1709L,message_to#1710L,message_ts#1711,reaction_from#1712,reaction_type#1713,subscription_channel#1714L,subscription_user#1715,tags#1716,user#1717,lat#1718,lon#1719,date#1720] Batched: true, DataFilters: [], Format: Parquet, Location: InMemoryFileIndex(1 paths)[s3a://data-ice-lake-05/master/data/source/messenger-yp/events/event_ty..., PartitionFilters: [isnotnull(date#1720), (date#1720 >= 2022-01-15), (date#1720 <= 2022-02-15)], PushedFilters: [], ReadSchema: struct<admins:array<bigint>,channel_id:bigint,datetime:timestamp,media_type:string,media_src:stri...\n",
      "\n"
     ]
    }
   ],
   "source": [
    "df.explain(True)"
   ]
  },
  {
   "cell_type": "code",
   "execution_count": 8,
   "metadata": {},
   "outputs": [
    {
     "data": {
      "text/plain": [
       "6"
      ]
     },
     "execution_count": 8,
     "metadata": {},
     "output_type": "execute_result"
    }
   ],
   "source": [
    "df.rdd.getNumPartitions()"
   ]
  },
  {
   "cell_type": "code",
   "execution_count": 6,
   "metadata": {},
   "outputs": [
    {
     "name": "stdout",
     "output_type": "stream",
     "text": [
      "== Physical Plan ==\n",
      "* ColumnarToRow (2)\n",
      "+- Scan parquet  (1)\n",
      "\n",
      "\n",
      "(1) Scan parquet \n",
      "Output [21]: [admins#0, channel_id#1L, datetime#2, media_type#3, media_src#4, message#5, message_channel_to#6L, message_from#7L, message_group#8L, message_id#9L, message_to#10L, message_ts#11, reaction_from#12, reaction_type#13, subscription_channel#14L, subscription_user#15, tags#16, user#17, lat#18, lon#19, date#20]\n",
      "Batched: true\n",
      "Location: InMemoryFileIndex [s3a://data-ice-lake-05/master/data/source/messenger-yp/events/event_type=message]\n",
      "PartitionFilters: [isnotnull(date#20), (date#20 >= 2022-01-15), (date#20 <= 2022-05-15)]\n",
      "ReadSchema: struct<admins:array<bigint>,channel_id:bigint,datetime:timestamp,media_type:string,media_src:string,message:string,message_channel_to:bigint,message_from:bigint,message_group:bigint,message_id:bigint,message_to:bigint,message_ts:timestamp,reaction_from:string,reaction_type:string,subscription_channel:bigint,subscription_user:string,tags:array<string>,user:string,lat:double,lon:double>\n",
      "\n",
      "(2) ColumnarToRow [codegen id : 1]\n",
      "Input [21]: [admins#0, channel_id#1L, datetime#2, media_type#3, media_src#4, message#5, message_channel_to#6L, message_from#7L, message_group#8L, message_id#9L, message_to#10L, message_ts#11, reaction_from#12, reaction_type#13, subscription_channel#14L, subscription_user#15, tags#16, user#17, lat#18, lon#19, date#20]\n",
      "\n",
      "\n"
     ]
    }
   ],
   "source": [
    "df.explain(mode='formatted')"
   ]
  },
  {
   "cell_type": "code",
   "execution_count": 10,
   "metadata": {},
   "outputs": [
    {
     "data": {
      "text/plain": [
       "StorageLevel(False, False, False, False, 1)"
      ]
     },
     "execution_count": 10,
     "metadata": {},
     "output_type": "execute_result"
    }
   ],
   "source": [
    "df.storageLevel"
   ]
  },
  {
   "cell_type": "code",
   "execution_count": 11,
   "metadata": {},
   "outputs": [
    {
     "name": "stdout",
     "output_type": "stream",
     "text": [
      "== Physical Plan ==\n",
      "AdaptiveSparkPlan (6)\n",
      "+- HashAggregate (5)\n",
      "   +- Exchange (4)\n",
      "      +- HashAggregate (3)\n",
      "         +- Project (2)\n",
      "            +- Scan parquet  (1)\n",
      "\n",
      "\n",
      "(1) Scan parquet \n",
      "Output [2]: [channel_id#1L, date#20]\n",
      "Batched: true\n",
      "Location: InMemoryFileIndex [s3a://data-ice-lake-05/master/data/source/messenger-yp/events/event_type=message]\n",
      "PartitionFilters: [isnotnull(date#20), (date#20 >= 2022-01-15), (date#20 <= 2022-05-15)]\n",
      "ReadSchema: struct<channel_id:bigint>\n",
      "\n",
      "(2) Project\n",
      "Output [1]: [channel_id#1L]\n",
      "Input [2]: [channel_id#1L, date#20]\n",
      "\n",
      "(3) HashAggregate\n",
      "Input [1]: [channel_id#1L]\n",
      "Keys [1]: [channel_id#1L]\n",
      "Functions: []\n",
      "Aggregate Attributes: []\n",
      "Results [1]: [channel_id#1L]\n",
      "\n",
      "(4) Exchange\n",
      "Input [1]: [channel_id#1L]\n",
      "Arguments: hashpartitioning(channel_id#1L, 200), ENSURE_REQUIREMENTS, [plan_id=20]\n",
      "\n",
      "(5) HashAggregate\n",
      "Input [1]: [channel_id#1L]\n",
      "Keys [1]: [channel_id#1L]\n",
      "Functions: []\n",
      "Aggregate Attributes: []\n",
      "Results [1]: [channel_id#1L]\n",
      "\n",
      "(6) AdaptiveSparkPlan\n",
      "Output [1]: [channel_id#1L]\n",
      "Arguments: isFinalPlan=false\n",
      "\n",
      "\n"
     ]
    }
   ],
   "source": [
    "df = df.select('channel_id').distinct()"
   ]
  },
  {
   "cell_type": "code",
   "execution_count": 12,
   "metadata": {},
   "outputs": [],
   "source": [
    "df = df.select('channel_id').distinct()"
   ]
  },
  {
   "cell_type": "code",
   "execution_count": 14,
   "metadata": {},
   "outputs": [
    {
     "name": "stderr",
     "output_type": "stream",
     "text": [
      "[Stage 2:=================================================>         (5 + 1) / 6]\r"
     ]
    },
    {
     "name": "stdout",
     "output_type": "stream",
     "text": [
      "+----------+\n",
      "|channel_id|\n",
      "+----------+\n",
      "|618771    |\n",
      "|643321    |\n",
      "|776940    |\n",
      "|319568    |\n",
      "|671323    |\n",
      "|149806    |\n",
      "|405912    |\n",
      "|347525    |\n",
      "|122127    |\n",
      "|370471    |\n",
      "+----------+\n",
      "only showing top 10 rows\n",
      "\n"
     ]
    },
    {
     "name": "stderr",
     "output_type": "stream",
     "text": [
      "                                                                                \r"
     ]
    }
   ],
   "source": [
    "df.show(10, False)"
   ]
  },
  {
   "cell_type": "code",
   "execution_count": 16,
   "metadata": {},
   "outputs": [
    {
     "name": "stdout",
     "output_type": "stream",
     "text": [
      "== Physical Plan ==\n",
      "AdaptiveSparkPlan (6)\n",
      "+- HashAggregate (5)\n",
      "   +- Exchange (4)\n",
      "      +- HashAggregate (3)\n",
      "         +- Project (2)\n",
      "            +- Scan parquet  (1)\n",
      "\n",
      "\n",
      "(1) Scan parquet \n",
      "Output [2]: [channel_id#1L, date#20]\n",
      "Batched: true\n",
      "Location: InMemoryFileIndex [s3a://data-ice-lake-05/master/data/source/messenger-yp/events/event_type=message]\n",
      "PartitionFilters: [isnotnull(date#20), (date#20 >= 2022-01-15), (date#20 <= 2022-05-15)]\n",
      "ReadSchema: struct<channel_id:bigint>\n",
      "\n",
      "(2) Project\n",
      "Output [1]: [channel_id#1L]\n",
      "Input [2]: [channel_id#1L, date#20]\n",
      "\n",
      "(3) HashAggregate\n",
      "Input [1]: [channel_id#1L]\n",
      "Keys [1]: [channel_id#1L]\n",
      "Functions: []\n",
      "Aggregate Attributes: []\n",
      "Results [1]: [channel_id#1L]\n",
      "\n",
      "(4) Exchange\n",
      "Input [1]: [channel_id#1L]\n",
      "Arguments: hashpartitioning(channel_id#1L, 200), ENSURE_REQUIREMENTS, [plan_id=35]\n",
      "\n",
      "(5) HashAggregate\n",
      "Input [1]: [channel_id#1L]\n",
      "Keys [1]: [channel_id#1L]\n",
      "Functions: []\n",
      "Aggregate Attributes: []\n",
      "Results [1]: [channel_id#1L]\n",
      "\n",
      "(6) AdaptiveSparkPlan\n",
      "Output [1]: [channel_id#1L]\n",
      "Arguments: isFinalPlan=false\n",
      "\n",
      "\n"
     ]
    }
   ],
   "source": [
    "df.explain(mode='formatted')"
   ]
  },
  {
   "cell_type": "code",
   "execution_count": 17,
   "metadata": {},
   "outputs": [
    {
     "name": "stderr",
     "output_type": "stream",
     "text": [
      "[Stage 5:=================================================>         (5 + 1) / 6]\r"
     ]
    },
    {
     "data": {
      "text/plain": [
       "1"
      ]
     },
     "execution_count": 17,
     "metadata": {},
     "output_type": "execute_result"
    }
   ],
   "source": [
    "df.rdd.getNumPartitions()"
   ]
  },
  {
   "cell_type": "code",
   "execution_count": 38,
   "metadata": {},
   "outputs": [
    {
     "name": "stderr",
     "output_type": "stream",
     "text": [
      "                                                                                \r"
     ]
    }
   ],
   "source": [
    "df = spark.read.parquet(\n",
    "    \"s3a://data-ice-lake-05/master/data/source/messenger-yp/events/event_type=message\", mergeSchema=True\n",
    ").where((F.col(\"date\") >= \"2022-01-15\") & (F.col('date') <= \"2022-05-15\"))"
   ]
  },
  {
   "cell_type": "code",
   "execution_count": 22,
   "metadata": {},
   "outputs": [],
   "source": [
    "df = df.select('channel_id').distinct()"
   ]
  },
  {
   "cell_type": "code",
   "execution_count": 23,
   "metadata": {},
   "outputs": [
    {
     "name": "stdout",
     "output_type": "stream",
     "text": [
      "== Physical Plan ==\n",
      "AdaptiveSparkPlan (6)\n",
      "+- HashAggregate (5)\n",
      "   +- Exchange (4)\n",
      "      +- HashAggregate (3)\n",
      "         +- Project (2)\n",
      "            +- Scan parquet  (1)\n",
      "\n",
      "\n",
      "(1) Scan parquet \n",
      "Output [2]: [channel_id#101L, date#120]\n",
      "Batched: true\n",
      "Location: InMemoryFileIndex [s3a://data-ice-lake-05/master/data/source/messenger-yp/events/event_type=message]\n",
      "PartitionFilters: [isnotnull(date#120), (date#120 >= 2022-01-15), (date#120 <= 2022-05-15)]\n",
      "ReadSchema: struct<channel_id:bigint>\n",
      "\n",
      "(2) Project\n",
      "Output [1]: [channel_id#101L]\n",
      "Input [2]: [channel_id#101L, date#120]\n",
      "\n",
      "(3) HashAggregate\n",
      "Input [1]: [channel_id#101L]\n",
      "Keys [1]: [channel_id#101L]\n",
      "Functions: []\n",
      "Aggregate Attributes: []\n",
      "Results [1]: [channel_id#101L]\n",
      "\n",
      "(4) Exchange\n",
      "Input [1]: [channel_id#101L]\n",
      "Arguments: hashpartitioning(channel_id#101L, 200), ENSURE_REQUIREMENTS, [plan_id=247]\n",
      "\n",
      "(5) HashAggregate\n",
      "Input [1]: [channel_id#101L]\n",
      "Keys [1]: [channel_id#101L]\n",
      "Functions: []\n",
      "Aggregate Attributes: []\n",
      "Results [1]: [channel_id#101L]\n",
      "\n",
      "(6) AdaptiveSparkPlan\n",
      "Output [1]: [channel_id#101L]\n",
      "Arguments: isFinalPlan=false\n",
      "\n",
      "\n"
     ]
    }
   ],
   "source": [
    "df.explain(mode='formatted')"
   ]
  },
  {
   "cell_type": "code",
   "execution_count": 39,
   "metadata": {},
   "outputs": [
    {
     "name": "stdout",
     "output_type": "stream",
     "text": [
      "+--------+----------+-------------------+----------+--------------------+--------------------+------------------+------------+-------------+----------+----------+----------+-------------+-------------+--------------------+-----------------+--------------------+----+-------------------+------------------+----------+\n",
      "|  admins|channel_id|           datetime|media_type|           media_src|             message|message_channel_to|message_from|message_group|message_id|message_to|message_ts|reaction_from|reaction_type|subscription_channel|subscription_user|                tags|user|                lat|               lon|      date|\n",
      "+--------+----------+-------------------+----------+--------------------+--------------------+------------------+------------+-------------+----------+----------+----------+-------------+-------------+--------------------+-----------------+--------------------+----+-------------------+------------------+----------+\n",
      "|[137449]|     97347|2022-04-15 08:54:15|     image|https://company.c...|After what I’m to...|             97347|      137449|         null|   1131113|      null|      null|         null|         null|                null|             null| [stuart, eric-romo]|null| -27.55367198735507|153.64347562901185|2022-04-15|\n",
      "|[114310]|    680401|2022-04-15 17:20:52|     image|https://company.c...|The past few Disr...|            680401|      114310|         null|   1100796|      null|      null|         null|         null|                null|             null| [hardware, disrupt]|null|  -37.2129747993003|144.68703026701561|2022-04-15|\n",
      "|[167088]|    341164|2022-04-15 16:05:39|     image|https://company.c...|You’ve seen “Pint...|            341164|      167088|         null|   1136948|      null|      null|         null|         null|                null|             null|[Веб-дизайн, Java...|null| -37.15815717421168| 146.0008459610115|2022-04-15|\n",
      "|[107445]|    978416|2022-04-15 05:55:17|     image|https://company.c...|Pipedrive, which ...|            978416|      107445|         null|   1103148|      null|      null|         null|         null|                null|             null|[angelpad, bessem...|null|-27.124278247326103|153.25521531277874|2022-04-15|\n",
      "| [85992]|    471987|2022-04-15 09:05:08|     image|https://company.c...|Editor’s note: Gu...|            471987|       85992|         null|   1101187|      null|      null|         null|         null|                null|             null|[privacy, messagi...|null|-12.275004182309559|131.36219351773144|2022-04-15|\n",
      "| [61842]|    472203|2022-04-15 17:13:58|     image|https://company.c...|\\n\\nПлатежная сис...|            472203|       61842|         null|   1128517|      null|      null|         null|         null|                null|             null|[Законодательство...|null| -32.91299638354344|152.65984078993935|2022-04-15|\n",
      "| [40260]|    950431|2022-04-15 20:08:21|     image|https://company.c...|Update: That was ...|            950431|       40260|         null|   1097533|      null|      null|         null|         null|                null|             null|[sv-angel, lerer-...|null|-18.748316851188772| 146.8451742511597|2022-04-15|\n",
      "| [59062]|    328564|2022-04-15 19:29:57|     image|https://company.c...|\\n\\nNow that we h...|            328564|       59062|         null|   1093725|      null|      null|         null|         null|                null|             null|[weapons, guns, m...|null|-27.355364755396398| 154.0215852314748|2022-04-15|\n",
      "| [59129]|    312290|2022-04-15 04:13:24|     image|https://company.c...|The audience at D...|            312290|       59129|         null|   1094626|      null|      null|         null|         null|                null|             null|[disrupt, spotmin...|null|-33.653984400261855|151.30514851029554|2022-04-15|\n",
      "| [41723]|    939651|2022-04-15 03:56:13|     image|https://company.c...|College students ...|            939651|       41723|         null|   1127370|      null|      null|         null|         null|                null|             null|[campus-job, Адми...|null|-11.832410581146107|131.52745138224185|2022-04-15|\n",
      "+--------+----------+-------------------+----------+--------------------+--------------------+------------------+------------+-------------+----------+----------+----------+-------------+-------------+--------------------+-----------------+--------------------+----+-------------------+------------------+----------+\n",
      "only showing top 10 rows\n",
      "\n"
     ]
    }
   ],
   "source": [
    "df.show(10)"
   ]
  },
  {
   "cell_type": "code",
   "execution_count": 40,
   "metadata": {},
   "outputs": [],
   "source": [
    "df = df.drop('message')"
   ]
  },
  {
   "cell_type": "code",
   "execution_count": 41,
   "metadata": {},
   "outputs": [],
   "source": [
    "df = (\n",
    "    df\n",
    "        .withColumn('admins', F.concat_ws(\",\", F.col(\"admins\")))\n",
    "        .withColumn('tags', F.concat_ws(\",\", F.col(\"tags\")))\n",
    ")"
   ]
  },
  {
   "cell_type": "code",
   "execution_count": 42,
   "metadata": {},
   "outputs": [
    {
     "name": "stderr",
     "output_type": "stream",
     "text": [
      "[2023-09-14 17:24:20] {AbstractS3ACommitterFactory} WARN: Using standard FileOutputCommitter to commit work. This is slow and potentially unsafe.\n",
      "                                                                                \r"
     ]
    }
   ],
   "source": [
    "df.write.partitionBy('date').csv(\"s3a://data-ice-lake-05/master/tmp/events/event_type=message\", header=True, sep=';', mode='overwrite')"
   ]
  },
  {
   "cell_type": "code",
   "execution_count": 47,
   "metadata": {},
   "outputs": [
    {
     "name": "stderr",
     "output_type": "stream",
     "text": [
      "                                                                                \r"
     ]
    }
   ],
   "source": [
    "df = spark.read.csv(\"s3a://data-ice-lake-05/master/tmp/events/event_type=message\",  header=True, sep=';')"
   ]
  },
  {
   "cell_type": "code",
   "execution_count": 44,
   "metadata": {},
   "outputs": [
    {
     "name": "stdout",
     "output_type": "stream",
     "text": [
      "+------+----------+--------------------+----------+--------------------+------------------+------------+-------------+----------+----------+----------+-------------+-------------+--------------------+-----------------+--------------------+----+-------------------+------------------+----------+\n",
      "|admins|channel_id|            datetime|media_type|           media_src|message_channel_to|message_from|message_group|message_id|message_to|message_ts|reaction_from|reaction_type|subscription_channel|subscription_user|                tags|user|                lat|               lon|      date|\n",
      "+------+----------+--------------------+----------+--------------------+------------------+------------+-------------+----------+----------+----------+-------------+-------------+--------------------+-----------------+--------------------+----+-------------------+------------------+----------+\n",
      "|   604|    703237|2022-02-14T12:57:...|     image|https://company.c...|            703237|         604|         null|   1089170|      null|      null|         null|         null|                null|             null|accel-partners,ai...|null|-31.856638169360245|116.51994259101922|2022-02-14|\n",
      "|111075|    579606|2022-02-14T04:06:...|     image|https://company.c...|            579606|      111075|         null|   1126707|      null|      null|         null|         null|                null|             null|Я пиарюсь,enterpr...|null| -36.55655605560092| 145.2589176621588|2022-02-14|\n",
      "|120639|    420018|2022-02-14T06:21:...|     image|https://company.c...|            420018|      120639|         null|   1125950|      null|      null|         null|         null|                null|             null|livingsocial,Копи...|null| -34.68398391379411| 149.4388866205749|2022-02-14|\n",
      "|161369|    616425|2022-02-14T01:29:...|     image|https://company.c...|            616425|      161369|         null|   1095907|      null|      null|         null|         null|                null|             null|handpick,recipes,...|null| -33.50127243002968|151.49019220406439|2022-02-14|\n",
      "|112018|     33829|2022-02-14T06:49:...|     image|https://company.c...|             33829|      112018|         null|   1099797|      null|      null|         null|         null|                null|             null|alphabet,Finelook...|null|-37.934818658197074|145.76814379450303|2022-02-14|\n",
      "| 34768|      9046|2022-02-14T16:44:...|     image|https://company.c...|              9046|       34768|         null|   1100543|      null|      null|         null|         null|                null|             null|       iad,hasoffers|null| -32.03588769320882|152.13899364183243|2022-02-14|\n",
      "| 81035|    652647|2022-02-14T10:43:...|     image|https://company.c...|            652647|       81035|         null|   1131868|      null|      null|         null|         null|                null|             null|    funding,appurify|null|-37.891850766198345|144.77330541844353|2022-02-14|\n",
      "| 92475|     90697|2022-02-14T19:09:...|     image|https://company.c...|             90697|       92475|         null|   1120299|      null|      null|         null|         null|                null|             null|cooliris,IT-компа...|null| -36.28025816128008| 144.3725317914281|2022-02-14|\n",
      "| 66360|    203292|2022-02-14T01:00:...|     image|https://company.c...|            203292|       66360|         null|   1095597|      null|      null|         null|         null|                null|             null|virtual-keyboard,...|null| -32.87806454538679|151.28537045195193|2022-02-14|\n",
      "|141877|    366290|2022-02-14T08:55:...|     image|https://company.c...|            366290|      141877|         null|   1132427|      null|      null|         null|         null|                null|             null|referral-marketin...|null|-22.737537935117942|150.96386265045055|2022-02-14|\n",
      "+------+----------+--------------------+----------+--------------------+------------------+------------+-------------+----------+----------+----------+-------------+-------------+--------------------+-----------------+--------------------+----+-------------------+------------------+----------+\n",
      "only showing top 10 rows\n",
      "\n"
     ]
    }
   ],
   "source": [
    "df.show(10)"
   ]
  },
  {
   "cell_type": "code",
   "execution_count": 45,
   "metadata": {},
   "outputs": [],
   "source": [
    "df = df.select('channel_id').distinct().explain(mode='formatted')"
   ]
  },
  {
   "cell_type": "code",
   "execution_count": null,
   "metadata": {},
   "outputs": [],
   "source": []
  },
  {
   "cell_type": "code",
   "execution_count": 49,
   "metadata": {},
   "outputs": [
    {
     "name": "stdout",
     "output_type": "stream",
     "text": [
      "== Parsed Logical Plan ==\n",
      "Deduplicate [channel_id#1200]\n",
      "+- Project [channel_id#1200]\n",
      "   +- Relation [admins#1199,channel_id#1200,datetime#1201,media_type#1202,media_src#1203,message_channel_to#1204,message_from#1205,message_group#1206,message_id#1207,message_to#1208,message_ts#1209,reaction_from#1210,reaction_type#1211,subscription_channel#1212,subscription_user#1213,tags#1214,user#1215,lat#1216,lon#1217,date#1218] csv\n",
      "\n",
      "== Analyzed Logical Plan ==\n",
      "channel_id: string\n",
      "Deduplicate [channel_id#1200]\n",
      "+- Project [channel_id#1200]\n",
      "   +- Relation [admins#1199,channel_id#1200,datetime#1201,media_type#1202,media_src#1203,message_channel_to#1204,message_from#1205,message_group#1206,message_id#1207,message_to#1208,message_ts#1209,reaction_from#1210,reaction_type#1211,subscription_channel#1212,subscription_user#1213,tags#1214,user#1215,lat#1216,lon#1217,date#1218] csv\n",
      "\n",
      "== Optimized Logical Plan ==\n",
      "Aggregate [channel_id#1200], [channel_id#1200]\n",
      "+- Project [channel_id#1200]\n",
      "   +- Relation [admins#1199,channel_id#1200,datetime#1201,media_type#1202,media_src#1203,message_channel_to#1204,message_from#1205,message_group#1206,message_id#1207,message_to#1208,message_ts#1209,reaction_from#1210,reaction_type#1211,subscription_channel#1212,subscription_user#1213,tags#1214,user#1215,lat#1216,lon#1217,date#1218] csv\n",
      "\n",
      "== Physical Plan ==\n",
      "AdaptiveSparkPlan isFinalPlan=false\n",
      "+- HashAggregate(keys=[channel_id#1200], functions=[], output=[channel_id#1200])\n",
      "   +- Exchange hashpartitioning(channel_id#1200, 200), ENSURE_REQUIREMENTS, [plan_id=596]\n",
      "      +- HashAggregate(keys=[channel_id#1200], functions=[], output=[channel_id#1200])\n",
      "         +- Project [channel_id#1200]\n",
      "            +- FileScan csv [channel_id#1200,date#1218] Batched: false, DataFilters: [], Format: CSV, Location: InMemoryFileIndex(1 paths)[s3a://data-ice-lake-05/master/tmp/events/event_type=message], PartitionFilters: [], PushedFilters: [], ReadSchema: struct<channel_id:string>\n",
      "\n"
     ]
    }
   ],
   "source": [
    "\n",
    "df.select('channel_id').distinct().explain(True)"
   ]
  },
  {
   "cell_type": "code",
   "execution_count": 46,
   "metadata": {},
   "outputs": [
    {
     "name": "stdout",
     "output_type": "stream",
     "text": [
      "== Physical Plan ==\n",
      "AdaptiveSparkPlan (6)\n",
      "+- HashAggregate (5)\n",
      "   +- Exchange (4)\n",
      "      +- HashAggregate (3)\n",
      "         +- Project (2)\n",
      "            +- Scan csv  (1)\n",
      "\n",
      "\n",
      "(1) Scan csv \n",
      "Output [2]: [channel_id#1040, date#1058]\n",
      "Batched: false\n",
      "Location: InMemoryFileIndex [s3a://data-ice-lake-05/master/tmp/events/event_type=message]\n",
      "ReadSchema: struct<channel_id:string>\n",
      "\n",
      "(2) Project\n",
      "Output [1]: [channel_id#1040]\n",
      "Input [2]: [channel_id#1040, date#1058]\n",
      "\n",
      "(3) HashAggregate\n",
      "Input [1]: [channel_id#1040]\n",
      "Keys [1]: [channel_id#1040]\n",
      "Functions: []\n",
      "Aggregate Attributes: []\n",
      "Results [1]: [channel_id#1040]\n",
      "\n",
      "(4) Exchange\n",
      "Input [1]: [channel_id#1040]\n",
      "Arguments: hashpartitioning(channel_id#1040, 200), ENSURE_REQUIREMENTS, [plan_id=547]\n",
      "\n",
      "(5) HashAggregate\n",
      "Input [1]: [channel_id#1040]\n",
      "Keys [1]: [channel_id#1040]\n",
      "Functions: []\n",
      "Aggregate Attributes: []\n",
      "Results [1]: [channel_id#1040]\n",
      "\n",
      "(6) AdaptiveSparkPlan\n",
      "Output [1]: [channel_id#1040]\n",
      "Arguments: isFinalPlan=false\n",
      "\n",
      "\n"
     ]
    }
   ],
   "source": [
    "df.explain(mode='formatted')"
   ]
  },
  {
   "cell_type": "code",
   "execution_count": 50,
   "metadata": {},
   "outputs": [
    {
     "name": "stderr",
     "output_type": "stream",
     "text": [
      "                                                                                \r"
     ]
    }
   ],
   "source": [
    "df1 = spark.read.parquet(\n",
    "    \"s3a://data-ice-lake-05/master/data/source/messenger-yp/events/event_type=message\"\n",
    ").where(F.col(\"date\") == \"2022-01-15\")\n",
    "\n",
    "\n",
    "df2 = spark.read.parquet(\n",
    "    \"s3a://data-ice-lake-05/master/data/source/messenger-yp/events/event_type=message\"\n",
    ").where(F.col(\"date\") == \"2022-01-16\")"
   ]
  },
  {
   "cell_type": "code",
   "execution_count": 54,
   "metadata": {},
   "outputs": [
    {
     "name": "stdout",
     "output_type": "stream",
     "text": [
      "== Physical Plan ==\n",
      "AdaptiveSparkPlan (11)\n",
      "+- HashAggregate (10)\n",
      "   +- Exchange (9)\n",
      "      +- HashAggregate (8)\n",
      "         +- Union (7)\n",
      "            :- Project (3)\n",
      "            :  +- Filter (2)\n",
      "            :     +- Scan parquet  (1)\n",
      "            +- Project (6)\n",
      "               +- Filter (5)\n",
      "                  +- Scan parquet  (4)\n",
      "\n",
      "\n",
      "(1) Scan parquet \n",
      "Output [3]: [channel_id#1243L, tags#1258, date#1262]\n",
      "Batched: true\n",
      "Location: InMemoryFileIndex [s3a://data-ice-lake-05/master/data/source/messenger-yp/events/event_type=message]\n",
      "PartitionFilters: [isnotnull(date#1262), (date#1262 = 2022-01-15)]\n",
      "ReadSchema: struct<channel_id:bigint,tags:array<string>>\n",
      "\n",
      "(2) Filter\n",
      "Input [3]: [channel_id#1243L, tags#1258, date#1262]\n",
      "Condition : (size(tags#1258, true) > 1)\n",
      "\n",
      "(3) Project\n",
      "Output [1]: [channel_id#1243L]\n",
      "Input [3]: [channel_id#1243L, tags#1258, date#1262]\n",
      "\n",
      "(4) Scan parquet \n",
      "Output [3]: [channel_id#1286L, tags#1301, date#1305]\n",
      "Batched: true\n",
      "Location: InMemoryFileIndex [s3a://data-ice-lake-05/master/data/source/messenger-yp/events/event_type=message]\n",
      "PartitionFilters: [isnotnull(date#1305), (date#1305 = 2022-01-16)]\n",
      "ReadSchema: struct<channel_id:bigint,tags:array<string>>\n",
      "\n",
      "(5) Filter\n",
      "Input [3]: [channel_id#1286L, tags#1301, date#1305]\n",
      "Condition : (size(tags#1301, true) > 1)\n",
      "\n",
      "(6) Project\n",
      "Output [1]: [channel_id#1286L]\n",
      "Input [3]: [channel_id#1286L, tags#1301, date#1305]\n",
      "\n",
      "(7) Union\n",
      "\n",
      "(8) HashAggregate\n",
      "Input [1]: [channel_id#1243L]\n",
      "Keys [1]: [channel_id#1243L]\n",
      "Functions: []\n",
      "Aggregate Attributes: []\n",
      "Results [1]: [channel_id#1243L]\n",
      "\n",
      "(9) Exchange\n",
      "Input [1]: [channel_id#1243L]\n",
      "Arguments: hashpartitioning(channel_id#1243L, 200), ENSURE_REQUIREMENTS, [plan_id=655]\n",
      "\n",
      "(10) HashAggregate\n",
      "Input [1]: [channel_id#1243L]\n",
      "Keys [1]: [channel_id#1243L]\n",
      "Functions: []\n",
      "Aggregate Attributes: []\n",
      "Results [1]: [channel_id#1243L]\n",
      "\n",
      "(11) AdaptiveSparkPlan\n",
      "Output [1]: [channel_id#1243L]\n",
      "Arguments: isFinalPlan=false\n",
      "\n",
      "\n"
     ]
    }
   ],
   "source": [
    "df1.union(df2).where(F.size(F.col('tags')) > 1).select('channel_id').distinct().explain(mode='formatted')"
   ]
  },
  {
   "cell_type": "code",
   "execution_count": 55,
   "metadata": {},
   "outputs": [
    {
     "name": "stderr",
     "output_type": "stream",
     "text": [
      "                                                                                \r"
     ]
    }
   ],
   "source": [
    "file = spark.read.parquet(\n",
    "    \"s3a://data-ice-lake-05/master/data/source/messenger-yp/events/event_type=message\"\n",
    ").where(F.col(\"date\") == \"2022-01-15\")"
   ]
  },
  {
   "cell_type": "code",
   "execution_count": 57,
   "metadata": {},
   "outputs": [
    {
     "name": "stdout",
     "output_type": "stream",
     "text": [
      "+--------+----------+-------------------+----------+--------------------+--------------------+------------------+------------+-------------+----------+----------+----------+-------------+-------------+--------------------+-----------------+--------------------+----+-------------------+------------------+----------+\n",
      "|  admins|channel_id|           datetime|media_type|           media_src|             message|message_channel_to|message_from|message_group|message_id|message_to|message_ts|reaction_from|reaction_type|subscription_channel|subscription_user|                tags|user|                lat|               lon|      date|\n",
      "+--------+----------+-------------------+----------+--------------------+--------------------+------------------+------------+-------------+----------+----------+----------+-------------+-------------+--------------------+-----------------+--------------------+----+-------------------+------------------+----------+\n",
      "|[141644]|    235517|2022-01-15 06:10:05|     image|https://company.c...|In the Silicon Va...|            235517|      141644|         null|   1112407|      null|      null|         null|         null|                null|             null|[edtech, computer...|null| -22.41422649304606| 150.9624324934393|2022-01-15|\n",
      "|[139249]|    892248|2022-01-15 01:13:01|     image|https://company.c...|\\nLoki.com. Основ...|            892248|      139249|         null|   1116784|      null|      null|         null|         null|                null|             null|[Информационная б...|null| -37.55281374042258|145.17190798992732|2022-01-15|\n",
      "| [13364]|    789287|2022-01-15 19:09:35|     image|https://company.c...|Update: Skype has...|            789287|       13364|         null|   1099647|      null|      null|         null|         null|                null|             null|[recruitment, job...|null| -37.91207235231254|144.46532665435495|2022-01-15|\n",
      "|[148948]|    631934|2022-01-15 08:54:14|     image|https://company.c...|\\n“Meet the new b...|            631934|      148948|         null|   1105544|      null|      null|         null|         null|                null|             null|[enterprise, ente...|null|-31.131805813773294|116.70062892558245|2022-01-15|\n",
      "|[114806]|    459805|2022-01-15 04:42:07|     image|https://company.c...|Читая статьи о ко...|            459805|      114806|         null|   1091160|      null|      null|         null|         null|                null|             null|      [Космонавтика]|null|  -32.4927957573949|152.02253885508998|2022-01-15|\n",
      "|[150732]|    746978|2022-01-15 14:37:33|     image|https://company.c...|Введение\\nКак и о...|            746978|      150732|         null|   1128021|      null|      null|         null|         null|                null|             null|[IT-инфраструктур...|null| -41.97304961782997|148.22616362666284|2022-01-15|\n",
      "|[140515]|    493514|2022-01-15 16:17:26|     image|https://company.c...|Google Cloud SQL ...|            493514|      140515|         null|   1099652|      null|      null|         null|         null|                null|             null|[mysql, aws-rds, ...|null| -33.19434309456422|152.17188629020444|2022-01-15|\n",
      "| [71555]|    990310|2022-01-15 22:28:06|     image|https://company.c...|It’s hard enough ...|            990310|       71555|         null|   1090569|      null|      null|         null|         null|                null|             null|[website-performa...|null|-27.374113585324665|153.43516024849816|2022-01-15|\n",
      "| [29761]|    398346|2022-01-15 04:30:59|     image|https://company.c...|Symbian Belle FP2...|            398346|       29761|         null|   1127238|      null|      null|         null|         null|                null|             null|[Гаджеты, Смартфо...|null| -35.04617340387817|149.18709732321346|2022-01-15|\n",
      "| [98399]|    512697|2022-01-15 16:46:21|     image|https://company.c...|The trio of synth...|            512697|       98399|         null|   1091501|      null|      null|         null|         null|                null|             null|[disrupt, prior-k...|null| -26.59964028416588|152.67888231295774|2022-01-15|\n",
      "+--------+----------+-------------------+----------+--------------------+--------------------+------------------+------------+-------------+----------+----------+----------+-------------+-------------+--------------------+-----------------+--------------------+----+-------------------+------------------+----------+\n",
      "only showing top 10 rows\n",
      "\n"
     ]
    }
   ],
   "source": [
    "file.show(10)"
   ]
  },
  {
   "cell_type": "code",
   "execution_count": 59,
   "metadata": {},
   "outputs": [],
   "source": [
    "df1 = (\n",
    "    file.select('channel_id', 'tags', 'message_id')\n",
    ")\n",
    "\n",
    "df2 = (file.select('channel_id', 'admins', 'datetime'))"
   ]
  },
  {
   "cell_type": "code",
   "execution_count": 60,
   "metadata": {},
   "outputs": [
    {
     "name": "stdout",
     "output_type": "stream",
     "text": [
      "== Physical Plan ==\n",
      "AdaptiveSparkPlan (13)\n",
      "+- Project (12)\n",
      "   +- SortMergeJoin Inner (11)\n",
      "      :- Sort (5)\n",
      "      :  +- Exchange (4)\n",
      "      :     +- Project (3)\n",
      "      :        +- Filter (2)\n",
      "      :           +- Scan parquet  (1)\n",
      "      +- Sort (10)\n",
      "         +- Exchange (9)\n",
      "            +- Project (8)\n",
      "               +- Filter (7)\n",
      "                  +- Scan parquet  (6)\n",
      "\n",
      "\n",
      "(1) Scan parquet \n",
      "Output [4]: [channel_id#1414L, message_id#1422L, tags#1429, date#1433]\n",
      "Batched: true\n",
      "Location: InMemoryFileIndex [s3a://data-ice-lake-05/master/data/source/messenger-yp/events/event_type=message]\n",
      "PartitionFilters: [isnotnull(date#1433), (date#1433 = 2022-01-15)]\n",
      "PushedFilters: [IsNotNull(channel_id)]\n",
      "ReadSchema: struct<channel_id:bigint,message_id:bigint,tags:array<string>>\n",
      "\n",
      "(2) Filter\n",
      "Input [4]: [channel_id#1414L, message_id#1422L, tags#1429, date#1433]\n",
      "Condition : isnotnull(channel_id#1414L)\n",
      "\n",
      "(3) Project\n",
      "Output [3]: [channel_id#1414L, tags#1429, message_id#1422L]\n",
      "Input [4]: [channel_id#1414L, message_id#1422L, tags#1429, date#1433]\n",
      "\n",
      "(4) Exchange\n",
      "Input [3]: [channel_id#1414L, tags#1429, message_id#1422L]\n",
      "Arguments: hashpartitioning(channel_id#1414L, 200), ENSURE_REQUIREMENTS, [plan_id=714]\n",
      "\n",
      "(5) Sort\n",
      "Input [3]: [channel_id#1414L, tags#1429, message_id#1422L]\n",
      "Arguments: [channel_id#1414L ASC NULLS FIRST], false, 0\n",
      "\n",
      "(6) Scan parquet \n",
      "Output [4]: [admins#1635, channel_id#1636L, datetime#1637, date#1655]\n",
      "Batched: true\n",
      "Location: InMemoryFileIndex [s3a://data-ice-lake-05/master/data/source/messenger-yp/events/event_type=message]\n",
      "PartitionFilters: [isnotnull(date#1655), (date#1655 = 2022-01-15)]\n",
      "PushedFilters: [IsNotNull(channel_id)]\n",
      "ReadSchema: struct<admins:array<bigint>,channel_id:bigint,datetime:timestamp>\n",
      "\n",
      "(7) Filter\n",
      "Input [4]: [admins#1635, channel_id#1636L, datetime#1637, date#1655]\n",
      "Condition : isnotnull(channel_id#1636L)\n",
      "\n",
      "(8) Project\n",
      "Output [3]: [channel_id#1636L, admins#1635, datetime#1637]\n",
      "Input [4]: [admins#1635, channel_id#1636L, datetime#1637, date#1655]\n",
      "\n",
      "(9) Exchange\n",
      "Input [3]: [channel_id#1636L, admins#1635, datetime#1637]\n",
      "Arguments: hashpartitioning(channel_id#1636L, 200), ENSURE_REQUIREMENTS, [plan_id=715]\n",
      "\n",
      "(10) Sort\n",
      "Input [3]: [channel_id#1636L, admins#1635, datetime#1637]\n",
      "Arguments: [channel_id#1636L ASC NULLS FIRST], false, 0\n",
      "\n",
      "(11) SortMergeJoin\n",
      "Left keys [1]: [channel_id#1414L]\n",
      "Right keys [1]: [channel_id#1636L]\n",
      "Join type: Inner\n",
      "Join condition: None\n",
      "\n",
      "(12) Project\n",
      "Output [5]: [channel_id#1414L, tags#1429, message_id#1422L, admins#1635, datetime#1637]\n",
      "Input [6]: [channel_id#1414L, tags#1429, message_id#1422L, channel_id#1636L, admins#1635, datetime#1637]\n",
      "\n",
      "(13) AdaptiveSparkPlan\n",
      "Output [5]: [channel_id#1414L, tags#1429, message_id#1422L, admins#1635, datetime#1637]\n",
      "Arguments: isFinalPlan=false\n",
      "\n",
      "\n"
     ]
    }
   ],
   "source": [
    "df1.join(df2, how='inner', on='channel_id').explain(mode='formatted')"
   ]
  },
  {
   "cell_type": "code",
   "execution_count": 61,
   "metadata": {},
   "outputs": [],
   "source": [
    "from pyspark.storagelevel import StorageLevel"
   ]
  },
  {
   "cell_type": "code",
   "execution_count": 62,
   "metadata": {},
   "outputs": [
    {
     "name": "stderr",
     "output_type": "stream",
     "text": [
      "                                                                                \r"
     ]
    }
   ],
   "source": [
    "file = spark.read.parquet(\n",
    "    \"s3a://data-ice-lake-05/master/data/source/messenger-yp/events/event_type=message\"\n",
    ").where(F.col(\"date\") == \"2022-01-15\").where(F.col('channel_id').isNotNull())\n",
    "\n",
    "file.persist(StorageLevel.MEMORY_ONLY)\n",
    "\n",
    "df1 = (\n",
    "    file.select('channel_id', 'tags', 'message_id')\n",
    ")\n",
    "\n",
    "df2 = (file.select('channel_id', 'admins', 'datetime'))"
   ]
  },
  {
   "cell_type": "code",
   "execution_count": 63,
   "metadata": {},
   "outputs": [
    {
     "name": "stdout",
     "output_type": "stream",
     "text": [
      "== Physical Plan ==\n",
      "AdaptiveSparkPlan (19)\n",
      "+- Project (18)\n",
      "   +- SortMergeJoin Inner (17)\n",
      "      :- Sort (8)\n",
      "      :  +- Exchange (7)\n",
      "      :     +- Filter (6)\n",
      "      :        +- InMemoryTableScan (1)\n",
      "      :              +- InMemoryRelation (2)\n",
      "      :                    +- * Filter (5)\n",
      "      :                       +- * ColumnarToRow (4)\n",
      "      :                          +- Scan parquet  (3)\n",
      "      +- Sort (16)\n",
      "         +- Exchange (15)\n",
      "            +- Filter (14)\n",
      "               +- InMemoryTableScan (9)\n",
      "                     +- InMemoryRelation (10)\n",
      "                           +- * Filter (13)\n",
      "                              +- * ColumnarToRow (12)\n",
      "                                 +- Scan parquet  (11)\n",
      "\n",
      "\n",
      "(1) InMemoryTableScan\n",
      "Output [3]: [channel_id#1663L, tags#1678, message_id#1671L]\n",
      "Arguments: [channel_id#1663L, tags#1678, message_id#1671L], [isnotnull(channel_id#1663L)]\n",
      "\n",
      "(2) InMemoryRelation\n",
      "Arguments: [admins#1662, channel_id#1663L, datetime#1664, media_type#1665, media_src#1666, message#1667, message_channel_to#1668L, message_from#1669L, message_group#1670L, message_id#1671L, message_to#1672L, message_ts#1673, reaction_from#1674, reaction_type#1675, subscription_channel#1676L, subscription_user#1677, tags#1678, user#1679, lat#1680, lon#1681, date#1682], CachedRDDBuilder(org.apache.spark.sql.execution.columnar.DefaultCachedBatchSerializer@5529031,StorageLevel(memory, 1 replicas),*(1) Filter isnotnull(channel_id#1663L)\n",
      "+- *(1) ColumnarToRow\n",
      "   +- FileScan parquet [admins#1662,channel_id#1663L,datetime#1664,media_type#1665,media_src#1666,message#1667,message_channel_to#1668L,message_from#1669L,message_group#1670L,message_id#1671L,message_to#1672L,message_ts#1673,reaction_from#1674,reaction_type#1675,subscription_channel#1676L,subscription_user#1677,tags#1678,user#1679,lat#1680,lon#1681,date#1682] Batched: true, DataFilters: [isnotnull(channel_id#1663L)], Format: Parquet, Location: InMemoryFileIndex(1 paths)[s3a://data-ice-lake-05/master/data/source/messenger-yp/events/event_ty..., PartitionFilters: [isnotnull(date#1682), (date#1682 = 2022-01-15)], PushedFilters: [IsNotNull(channel_id)], ReadSchema: struct<admins:array<bigint>,channel_id:bigint,datetime:timestamp,media_type:string,media_src:stri...\n",
      ",None)\n",
      "\n",
      "(3) Scan parquet \n",
      "Output [21]: [admins#1662, channel_id#1663L, datetime#1664, media_type#1665, media_src#1666, message#1667, message_channel_to#1668L, message_from#1669L, message_group#1670L, message_id#1671L, message_to#1672L, message_ts#1673, reaction_from#1674, reaction_type#1675, subscription_channel#1676L, subscription_user#1677, tags#1678, user#1679, lat#1680, lon#1681, date#1682]\n",
      "Batched: true\n",
      "Location: InMemoryFileIndex [s3a://data-ice-lake-05/master/data/source/messenger-yp/events/event_type=message]\n",
      "PartitionFilters: [isnotnull(date#1682), (date#1682 = 2022-01-15)]\n",
      "PushedFilters: [IsNotNull(channel_id)]\n",
      "ReadSchema: struct<admins:array<bigint>,channel_id:bigint,datetime:timestamp,media_type:string,media_src:string,message:string,message_channel_to:bigint,message_from:bigint,message_group:bigint,message_id:bigint,message_to:bigint,message_ts:timestamp,reaction_from:string,reaction_type:string,subscription_channel:bigint,subscription_user:string,tags:array<string>,user:string,lat:double,lon:double>\n",
      "\n",
      "(4) ColumnarToRow [codegen id : 1]\n",
      "Input [21]: [admins#1662, channel_id#1663L, datetime#1664, media_type#1665, media_src#1666, message#1667, message_channel_to#1668L, message_from#1669L, message_group#1670L, message_id#1671L, message_to#1672L, message_ts#1673, reaction_from#1674, reaction_type#1675, subscription_channel#1676L, subscription_user#1677, tags#1678, user#1679, lat#1680, lon#1681, date#1682]\n",
      "\n",
      "(5) Filter [codegen id : 1]\n",
      "Input [21]: [admins#1662, channel_id#1663L, datetime#1664, media_type#1665, media_src#1666, message#1667, message_channel_to#1668L, message_from#1669L, message_group#1670L, message_id#1671L, message_to#1672L, message_ts#1673, reaction_from#1674, reaction_type#1675, subscription_channel#1676L, subscription_user#1677, tags#1678, user#1679, lat#1680, lon#1681, date#1682]\n",
      "Condition : isnotnull(channel_id#1663L)\n",
      "\n",
      "(6) Filter\n",
      "Input [3]: [channel_id#1663L, tags#1678, message_id#1671L]\n",
      "Condition : isnotnull(channel_id#1663L)\n",
      "\n",
      "(7) Exchange\n",
      "Input [3]: [channel_id#1663L, tags#1678, message_id#1671L]\n",
      "Arguments: hashpartitioning(channel_id#1663L, 200), ENSURE_REQUIREMENTS, [plan_id=754]\n",
      "\n",
      "(8) Sort\n",
      "Input [3]: [channel_id#1663L, tags#1678, message_id#1671L]\n",
      "Arguments: [channel_id#1663L ASC NULLS FIRST], false, 0\n",
      "\n",
      "(9) InMemoryTableScan\n",
      "Output [3]: [channel_id#1817L, admins#1816, datetime#1818]\n",
      "Arguments: [channel_id#1817L, admins#1816, datetime#1818], [isnotnull(channel_id#1817L)]\n",
      "\n",
      "(10) InMemoryRelation\n",
      "Arguments: [admins#1816, channel_id#1817L, datetime#1818, media_type#1819, media_src#1820, message#1821, message_channel_to#1822L, message_from#1823L, message_group#1824L, message_id#1825L, message_to#1826L, message_ts#1827, reaction_from#1828, reaction_type#1829, subscription_channel#1830L, subscription_user#1831, tags#1832, user#1833, lat#1834, lon#1835, date#1836], CachedRDDBuilder(org.apache.spark.sql.execution.columnar.DefaultCachedBatchSerializer@5529031,StorageLevel(memory, 1 replicas),*(1) Filter isnotnull(channel_id#1663L)\n",
      "+- *(1) ColumnarToRow\n",
      "   +- FileScan parquet [admins#1662,channel_id#1663L,datetime#1664,media_type#1665,media_src#1666,message#1667,message_channel_to#1668L,message_from#1669L,message_group#1670L,message_id#1671L,message_to#1672L,message_ts#1673,reaction_from#1674,reaction_type#1675,subscription_channel#1676L,subscription_user#1677,tags#1678,user#1679,lat#1680,lon#1681,date#1682] Batched: true, DataFilters: [isnotnull(channel_id#1663L)], Format: Parquet, Location: InMemoryFileIndex(1 paths)[s3a://data-ice-lake-05/master/data/source/messenger-yp/events/event_ty..., PartitionFilters: [isnotnull(date#1682), (date#1682 = 2022-01-15)], PushedFilters: [IsNotNull(channel_id)], ReadSchema: struct<admins:array<bigint>,channel_id:bigint,datetime:timestamp,media_type:string,media_src:stri...\n",
      ",None)\n",
      "\n",
      "(11) Scan parquet \n",
      "Output [21]: [admins#1662, channel_id#1663L, datetime#1664, media_type#1665, media_src#1666, message#1667, message_channel_to#1668L, message_from#1669L, message_group#1670L, message_id#1671L, message_to#1672L, message_ts#1673, reaction_from#1674, reaction_type#1675, subscription_channel#1676L, subscription_user#1677, tags#1678, user#1679, lat#1680, lon#1681, date#1682]\n",
      "Batched: true\n",
      "Location: InMemoryFileIndex [s3a://data-ice-lake-05/master/data/source/messenger-yp/events/event_type=message]\n",
      "PartitionFilters: [isnotnull(date#1682), (date#1682 = 2022-01-15)]\n",
      "PushedFilters: [IsNotNull(channel_id)]\n",
      "ReadSchema: struct<admins:array<bigint>,channel_id:bigint,datetime:timestamp,media_type:string,media_src:string,message:string,message_channel_to:bigint,message_from:bigint,message_group:bigint,message_id:bigint,message_to:bigint,message_ts:timestamp,reaction_from:string,reaction_type:string,subscription_channel:bigint,subscription_user:string,tags:array<string>,user:string,lat:double,lon:double>\n",
      "\n",
      "(12) ColumnarToRow [codegen id : 1]\n",
      "Input [21]: [admins#1662, channel_id#1663L, datetime#1664, media_type#1665, media_src#1666, message#1667, message_channel_to#1668L, message_from#1669L, message_group#1670L, message_id#1671L, message_to#1672L, message_ts#1673, reaction_from#1674, reaction_type#1675, subscription_channel#1676L, subscription_user#1677, tags#1678, user#1679, lat#1680, lon#1681, date#1682]\n",
      "\n",
      "(13) Filter [codegen id : 1]\n",
      "Input [21]: [admins#1662, channel_id#1663L, datetime#1664, media_type#1665, media_src#1666, message#1667, message_channel_to#1668L, message_from#1669L, message_group#1670L, message_id#1671L, message_to#1672L, message_ts#1673, reaction_from#1674, reaction_type#1675, subscription_channel#1676L, subscription_user#1677, tags#1678, user#1679, lat#1680, lon#1681, date#1682]\n",
      "Condition : isnotnull(channel_id#1663L)\n",
      "\n",
      "(14) Filter\n",
      "Input [3]: [channel_id#1817L, admins#1816, datetime#1818]\n",
      "Condition : isnotnull(channel_id#1817L)\n",
      "\n",
      "(15) Exchange\n",
      "Input [3]: [channel_id#1817L, admins#1816, datetime#1818]\n",
      "Arguments: hashpartitioning(channel_id#1817L, 200), ENSURE_REQUIREMENTS, [plan_id=755]\n",
      "\n",
      "(16) Sort\n",
      "Input [3]: [channel_id#1817L, admins#1816, datetime#1818]\n",
      "Arguments: [channel_id#1817L ASC NULLS FIRST], false, 0\n",
      "\n",
      "(17) SortMergeJoin\n",
      "Left keys [1]: [channel_id#1663L]\n",
      "Right keys [1]: [channel_id#1817L]\n",
      "Join type: Inner\n",
      "Join condition: None\n",
      "\n",
      "(18) Project\n",
      "Output [5]: [channel_id#1663L, tags#1678, message_id#1671L, admins#1816, datetime#1818]\n",
      "Input [6]: [channel_id#1663L, tags#1678, message_id#1671L, channel_id#1817L, admins#1816, datetime#1818]\n",
      "\n",
      "(19) AdaptiveSparkPlan\n",
      "Output [5]: [channel_id#1663L, tags#1678, message_id#1671L, admins#1816, datetime#1818]\n",
      "Arguments: isFinalPlan=false\n",
      "\n",
      "\n"
     ]
    }
   ],
   "source": [
    "df1.join(df2, how='inner', on='channel_id').explain(mode='formatted')"
   ]
  },
  {
   "cell_type": "code",
   "execution_count": 64,
   "metadata": {},
   "outputs": [
    {
     "name": "stderr",
     "output_type": "stream",
     "text": [
      "[2023-09-14 18:27:59] {CacheManager} WARN: Asked to cache already cached data.  \n"
     ]
    }
   ],
   "source": [
    "file = spark.read.parquet(\n",
    "    \"s3a://data-ice-lake-05/master/data/source/messenger-yp/events/event_type=message\"\n",
    ").where(F.col(\"date\") == \"2022-01-15\").where(F.col('channel_id').isNotNull())\n",
    "\n",
    "file.cache()\n",
    "\n",
    "df1 = (\n",
    "    file.select('channel_id', 'tags', 'message_id')\n",
    ")\n",
    "\n",
    "df2 = (file.select('channel_id', 'admins', 'datetime'))"
   ]
  },
  {
   "cell_type": "code",
   "execution_count": 65,
   "metadata": {},
   "outputs": [
    {
     "name": "stdout",
     "output_type": "stream",
     "text": [
      "== Physical Plan ==\n",
      "AdaptiveSparkPlan (19)\n",
      "+- Project (18)\n",
      "   +- SortMergeJoin Inner (17)\n",
      "      :- Sort (8)\n",
      "      :  +- Exchange (7)\n",
      "      :     +- Filter (6)\n",
      "      :        +- InMemoryTableScan (1)\n",
      "      :              +- InMemoryRelation (2)\n",
      "      :                    +- * Filter (5)\n",
      "      :                       +- * ColumnarToRow (4)\n",
      "      :                          +- Scan parquet  (3)\n",
      "      +- Sort (16)\n",
      "         +- Exchange (15)\n",
      "            +- Filter (14)\n",
      "               +- InMemoryTableScan (9)\n",
      "                     +- InMemoryRelation (10)\n",
      "                           +- * Filter (13)\n",
      "                              +- * ColumnarToRow (12)\n",
      "                                 +- Scan parquet  (11)\n",
      "\n",
      "\n",
      "(1) InMemoryTableScan\n",
      "Output [3]: [channel_id#2474L, tags#2489, message_id#2482L]\n",
      "Arguments: [channel_id#2474L, tags#2489, message_id#2482L], [isnotnull(channel_id#2474L)]\n",
      "\n",
      "(2) InMemoryRelation\n",
      "Arguments: [admins#2473, channel_id#2474L, datetime#2475, media_type#2476, media_src#2477, message#2478, message_channel_to#2479L, message_from#2480L, message_group#2481L, message_id#2482L, message_to#2483L, message_ts#2484, reaction_from#2485, reaction_type#2486, subscription_channel#2487L, subscription_user#2488, tags#2489, user#2490, lat#2491, lon#2492, date#2493], CachedRDDBuilder(org.apache.spark.sql.execution.columnar.DefaultCachedBatchSerializer@5529031,StorageLevel(memory, 1 replicas),*(1) Filter isnotnull(channel_id#1663L)\n",
      "+- *(1) ColumnarToRow\n",
      "   +- FileScan parquet [admins#1662,channel_id#1663L,datetime#1664,media_type#1665,media_src#1666,message#1667,message_channel_to#1668L,message_from#1669L,message_group#1670L,message_id#1671L,message_to#1672L,message_ts#1673,reaction_from#1674,reaction_type#1675,subscription_channel#1676L,subscription_user#1677,tags#1678,user#1679,lat#1680,lon#1681,date#1682] Batched: true, DataFilters: [isnotnull(channel_id#1663L)], Format: Parquet, Location: InMemoryFileIndex(1 paths)[s3a://data-ice-lake-05/master/data/source/messenger-yp/events/event_ty..., PartitionFilters: [isnotnull(date#1682), (date#1682 = 2022-01-15)], PushedFilters: [IsNotNull(channel_id)], ReadSchema: struct<admins:array<bigint>,channel_id:bigint,datetime:timestamp,media_type:string,media_src:stri...\n",
      ",None)\n",
      "\n",
      "(3) Scan parquet \n",
      "Output [21]: [admins#1662, channel_id#1663L, datetime#1664, media_type#1665, media_src#1666, message#1667, message_channel_to#1668L, message_from#1669L, message_group#1670L, message_id#1671L, message_to#1672L, message_ts#1673, reaction_from#1674, reaction_type#1675, subscription_channel#1676L, subscription_user#1677, tags#1678, user#1679, lat#1680, lon#1681, date#1682]\n",
      "Batched: true\n",
      "Location: InMemoryFileIndex [s3a://data-ice-lake-05/master/data/source/messenger-yp/events/event_type=message]\n",
      "PartitionFilters: [isnotnull(date#1682), (date#1682 = 2022-01-15)]\n",
      "PushedFilters: [IsNotNull(channel_id)]\n",
      "ReadSchema: struct<admins:array<bigint>,channel_id:bigint,datetime:timestamp,media_type:string,media_src:string,message:string,message_channel_to:bigint,message_from:bigint,message_group:bigint,message_id:bigint,message_to:bigint,message_ts:timestamp,reaction_from:string,reaction_type:string,subscription_channel:bigint,subscription_user:string,tags:array<string>,user:string,lat:double,lon:double>\n",
      "\n",
      "(4) ColumnarToRow [codegen id : 1]\n",
      "Input [21]: [admins#1662, channel_id#1663L, datetime#1664, media_type#1665, media_src#1666, message#1667, message_channel_to#1668L, message_from#1669L, message_group#1670L, message_id#1671L, message_to#1672L, message_ts#1673, reaction_from#1674, reaction_type#1675, subscription_channel#1676L, subscription_user#1677, tags#1678, user#1679, lat#1680, lon#1681, date#1682]\n",
      "\n",
      "(5) Filter [codegen id : 1]\n",
      "Input [21]: [admins#1662, channel_id#1663L, datetime#1664, media_type#1665, media_src#1666, message#1667, message_channel_to#1668L, message_from#1669L, message_group#1670L, message_id#1671L, message_to#1672L, message_ts#1673, reaction_from#1674, reaction_type#1675, subscription_channel#1676L, subscription_user#1677, tags#1678, user#1679, lat#1680, lon#1681, date#1682]\n",
      "Condition : isnotnull(channel_id#1663L)\n",
      "\n",
      "(6) Filter\n",
      "Input [3]: [channel_id#2474L, tags#2489, message_id#2482L]\n",
      "Condition : isnotnull(channel_id#2474L)\n",
      "\n",
      "(7) Exchange\n",
      "Input [3]: [channel_id#2474L, tags#2489, message_id#2482L]\n",
      "Arguments: hashpartitioning(channel_id#2474L, 200), ENSURE_REQUIREMENTS, [plan_id=791]\n",
      "\n",
      "(8) Sort\n",
      "Input [3]: [channel_id#2474L, tags#2489, message_id#2482L]\n",
      "Arguments: [channel_id#2474L ASC NULLS FIRST], false, 0\n",
      "\n",
      "(9) InMemoryTableScan\n",
      "Output [3]: [channel_id#2523L, admins#2522, datetime#2524]\n",
      "Arguments: [channel_id#2523L, admins#2522, datetime#2524], [isnotnull(channel_id#2523L)]\n",
      "\n",
      "(10) InMemoryRelation\n",
      "Arguments: [admins#2522, channel_id#2523L, datetime#2524, media_type#2525, media_src#2526, message#2527, message_channel_to#2528L, message_from#2529L, message_group#2530L, message_id#2531L, message_to#2532L, message_ts#2533, reaction_from#2534, reaction_type#2535, subscription_channel#2536L, subscription_user#2537, tags#2538, user#2539, lat#2540, lon#2541, date#2542], CachedRDDBuilder(org.apache.spark.sql.execution.columnar.DefaultCachedBatchSerializer@5529031,StorageLevel(memory, 1 replicas),*(1) Filter isnotnull(channel_id#1663L)\n",
      "+- *(1) ColumnarToRow\n",
      "   +- FileScan parquet [admins#1662,channel_id#1663L,datetime#1664,media_type#1665,media_src#1666,message#1667,message_channel_to#1668L,message_from#1669L,message_group#1670L,message_id#1671L,message_to#1672L,message_ts#1673,reaction_from#1674,reaction_type#1675,subscription_channel#1676L,subscription_user#1677,tags#1678,user#1679,lat#1680,lon#1681,date#1682] Batched: true, DataFilters: [isnotnull(channel_id#1663L)], Format: Parquet, Location: InMemoryFileIndex(1 paths)[s3a://data-ice-lake-05/master/data/source/messenger-yp/events/event_ty..., PartitionFilters: [isnotnull(date#1682), (date#1682 = 2022-01-15)], PushedFilters: [IsNotNull(channel_id)], ReadSchema: struct<admins:array<bigint>,channel_id:bigint,datetime:timestamp,media_type:string,media_src:stri...\n",
      ",None)\n",
      "\n",
      "(11) Scan parquet \n",
      "Output [21]: [admins#1662, channel_id#1663L, datetime#1664, media_type#1665, media_src#1666, message#1667, message_channel_to#1668L, message_from#1669L, message_group#1670L, message_id#1671L, message_to#1672L, message_ts#1673, reaction_from#1674, reaction_type#1675, subscription_channel#1676L, subscription_user#1677, tags#1678, user#1679, lat#1680, lon#1681, date#1682]\n",
      "Batched: true\n",
      "Location: InMemoryFileIndex [s3a://data-ice-lake-05/master/data/source/messenger-yp/events/event_type=message]\n",
      "PartitionFilters: [isnotnull(date#1682), (date#1682 = 2022-01-15)]\n",
      "PushedFilters: [IsNotNull(channel_id)]\n",
      "ReadSchema: struct<admins:array<bigint>,channel_id:bigint,datetime:timestamp,media_type:string,media_src:string,message:string,message_channel_to:bigint,message_from:bigint,message_group:bigint,message_id:bigint,message_to:bigint,message_ts:timestamp,reaction_from:string,reaction_type:string,subscription_channel:bigint,subscription_user:string,tags:array<string>,user:string,lat:double,lon:double>\n",
      "\n",
      "(12) ColumnarToRow [codegen id : 1]\n",
      "Input [21]: [admins#1662, channel_id#1663L, datetime#1664, media_type#1665, media_src#1666, message#1667, message_channel_to#1668L, message_from#1669L, message_group#1670L, message_id#1671L, message_to#1672L, message_ts#1673, reaction_from#1674, reaction_type#1675, subscription_channel#1676L, subscription_user#1677, tags#1678, user#1679, lat#1680, lon#1681, date#1682]\n",
      "\n",
      "(13) Filter [codegen id : 1]\n",
      "Input [21]: [admins#1662, channel_id#1663L, datetime#1664, media_type#1665, media_src#1666, message#1667, message_channel_to#1668L, message_from#1669L, message_group#1670L, message_id#1671L, message_to#1672L, message_ts#1673, reaction_from#1674, reaction_type#1675, subscription_channel#1676L, subscription_user#1677, tags#1678, user#1679, lat#1680, lon#1681, date#1682]\n",
      "Condition : isnotnull(channel_id#1663L)\n",
      "\n",
      "(14) Filter\n",
      "Input [3]: [channel_id#2523L, admins#2522, datetime#2524]\n",
      "Condition : isnotnull(channel_id#2523L)\n",
      "\n",
      "(15) Exchange\n",
      "Input [3]: [channel_id#2523L, admins#2522, datetime#2524]\n",
      "Arguments: hashpartitioning(channel_id#2523L, 200), ENSURE_REQUIREMENTS, [plan_id=792]\n",
      "\n",
      "(16) Sort\n",
      "Input [3]: [channel_id#2523L, admins#2522, datetime#2524]\n",
      "Arguments: [channel_id#2523L ASC NULLS FIRST], false, 0\n",
      "\n",
      "(17) SortMergeJoin\n",
      "Left keys [1]: [channel_id#2474L]\n",
      "Right keys [1]: [channel_id#2523L]\n",
      "Join type: Inner\n",
      "Join condition: None\n",
      "\n",
      "(18) Project\n",
      "Output [5]: [channel_id#2474L, tags#2489, message_id#2482L, admins#2522, datetime#2524]\n",
      "Input [6]: [channel_id#2474L, tags#2489, message_id#2482L, channel_id#2523L, admins#2522, datetime#2524]\n",
      "\n",
      "(19) AdaptiveSparkPlan\n",
      "Output [5]: [channel_id#2474L, tags#2489, message_id#2482L, admins#2522, datetime#2524]\n",
      "Arguments: isFinalPlan=false\n",
      "\n",
      "\n"
     ]
    }
   ],
   "source": [
    "df1.join(df2, how='inner', on='channel_id').explain(mode='formatted')"
   ]
  },
  {
   "cell_type": "code",
   "execution_count": 66,
   "metadata": {},
   "outputs": [
    {
     "name": "stdout",
     "output_type": "stream",
     "text": [
      "== Physical Plan ==\n",
      "InMemoryTableScan (1)\n",
      "   +- InMemoryRelation (2)\n",
      "         +- * Filter (5)\n",
      "            +- * ColumnarToRow (4)\n",
      "               +- Scan parquet  (3)\n",
      "\n",
      "\n",
      "(1) InMemoryTableScan\n",
      "Output [21]: [admins#3179, channel_id#3180L, datetime#3181, media_type#3182, media_src#3183, message#3184, message_channel_to#3185L, message_from#3186L, message_group#3187L, message_id#3188L, message_to#3189L, message_ts#3190, reaction_from#3191, reaction_type#3192, subscription_channel#3193L, subscription_user#3194, tags#3195, user#3196, lat#3197, lon#3198, date#3199]\n",
      "Arguments: [admins#3179, channel_id#3180L, datetime#3181, media_type#3182, media_src#3183, message#3184, message_channel_to#3185L, message_from#3186L, message_group#3187L, message_id#3188L, message_to#3189L, message_ts#3190, reaction_from#3191, reaction_type#3192, subscription_channel#3193L, subscription_user#3194, tags#3195, user#3196, lat#3197, lon#3198, date#3199]\n",
      "\n",
      "(2) InMemoryRelation\n",
      "Arguments: [admins#3179, channel_id#3180L, datetime#3181, media_type#3182, media_src#3183, message#3184, message_channel_to#3185L, message_from#3186L, message_group#3187L, message_id#3188L, message_to#3189L, message_ts#3190, reaction_from#3191, reaction_type#3192, subscription_channel#3193L, subscription_user#3194, tags#3195, user#3196, lat#3197, lon#3198, date#3199], CachedRDDBuilder(org.apache.spark.sql.execution.columnar.DefaultCachedBatchSerializer@5529031,StorageLevel(memory, 1 replicas),*(1) Filter isnotnull(channel_id#1663L)\n",
      "+- *(1) ColumnarToRow\n",
      "   +- FileScan parquet [admins#1662,channel_id#1663L,datetime#1664,media_type#1665,media_src#1666,message#1667,message_channel_to#1668L,message_from#1669L,message_group#1670L,message_id#1671L,message_to#1672L,message_ts#1673,reaction_from#1674,reaction_type#1675,subscription_channel#1676L,subscription_user#1677,tags#1678,user#1679,lat#1680,lon#1681,date#1682] Batched: true, DataFilters: [isnotnull(channel_id#1663L)], Format: Parquet, Location: InMemoryFileIndex(1 paths)[s3a://data-ice-lake-05/master/data/source/messenger-yp/events/event_ty..., PartitionFilters: [isnotnull(date#1682), (date#1682 = 2022-01-15)], PushedFilters: [IsNotNull(channel_id)], ReadSchema: struct<admins:array<bigint>,channel_id:bigint,datetime:timestamp,media_type:string,media_src:stri...\n",
      ",None)\n",
      "\n",
      "(3) Scan parquet \n",
      "Output [21]: [admins#1662, channel_id#1663L, datetime#1664, media_type#1665, media_src#1666, message#1667, message_channel_to#1668L, message_from#1669L, message_group#1670L, message_id#1671L, message_to#1672L, message_ts#1673, reaction_from#1674, reaction_type#1675, subscription_channel#1676L, subscription_user#1677, tags#1678, user#1679, lat#1680, lon#1681, date#1682]\n",
      "Batched: true\n",
      "Location: InMemoryFileIndex [s3a://data-ice-lake-05/master/data/source/messenger-yp/events/event_type=message]\n",
      "PartitionFilters: [isnotnull(date#1682), (date#1682 = 2022-01-15)]\n",
      "PushedFilters: [IsNotNull(channel_id)]\n",
      "ReadSchema: struct<admins:array<bigint>,channel_id:bigint,datetime:timestamp,media_type:string,media_src:string,message:string,message_channel_to:bigint,message_from:bigint,message_group:bigint,message_id:bigint,message_to:bigint,message_ts:timestamp,reaction_from:string,reaction_type:string,subscription_channel:bigint,subscription_user:string,tags:array<string>,user:string,lat:double,lon:double>\n",
      "\n",
      "(4) ColumnarToRow [codegen id : 1]\n",
      "Input [21]: [admins#1662, channel_id#1663L, datetime#1664, media_type#1665, media_src#1666, message#1667, message_channel_to#1668L, message_from#1669L, message_group#1670L, message_id#1671L, message_to#1672L, message_ts#1673, reaction_from#1674, reaction_type#1675, subscription_channel#1676L, subscription_user#1677, tags#1678, user#1679, lat#1680, lon#1681, date#1682]\n",
      "\n",
      "(5) Filter [codegen id : 1]\n",
      "Input [21]: [admins#1662, channel_id#1663L, datetime#1664, media_type#1665, media_src#1666, message#1667, message_channel_to#1668L, message_from#1669L, message_group#1670L, message_id#1671L, message_to#1672L, message_ts#1673, reaction_from#1674, reaction_type#1675, subscription_channel#1676L, subscription_user#1677, tags#1678, user#1679, lat#1680, lon#1681, date#1682]\n",
      "Condition : isnotnull(channel_id#1663L)\n",
      "\n",
      "\n"
     ]
    }
   ],
   "source": [
    "file = spark.read.parquet(\n",
    "    \"s3a://data-ice-lake-05/master/data/source/messenger-yp/events/event_type=message\"\n",
    ").where(F.col(\"date\") == \"2022-01-15\").where(F.col('channel_id').isNotNull())\n",
    "\n",
    "file.explain(mode='formatted')"
   ]
  },
  {
   "cell_type": "code",
   "execution_count": 67,
   "metadata": {},
   "outputs": [
    {
     "name": "stdout",
     "output_type": "stream",
     "text": [
      "== Physical Plan ==\n",
      "CartesianProduct Inner (11)\n",
      ":- InMemoryTableScan (1)\n",
      ":     +- InMemoryRelation (2)\n",
      ":           +- * Filter (5)\n",
      ":              +- * ColumnarToRow (4)\n",
      ":                 +- Scan parquet  (3)\n",
      "+- InMemoryTableScan (6)\n",
      "      +- InMemoryRelation (7)\n",
      "            +- * Filter (10)\n",
      "               +- * ColumnarToRow (9)\n",
      "                  +- Scan parquet  (8)\n",
      "\n",
      "\n",
      "(1) InMemoryTableScan\n",
      "Output [3]: [channel_id#2474L, tags#2489, message_id#2482L]\n",
      "Arguments: [channel_id#2474L, tags#2489, message_id#2482L]\n",
      "\n",
      "(2) InMemoryRelation\n",
      "Arguments: [admins#2473, channel_id#2474L, datetime#2475, media_type#2476, media_src#2477, message#2478, message_channel_to#2479L, message_from#2480L, message_group#2481L, message_id#2482L, message_to#2483L, message_ts#2484, reaction_from#2485, reaction_type#2486, subscription_channel#2487L, subscription_user#2488, tags#2489, user#2490, lat#2491, lon#2492, date#2493], CachedRDDBuilder(org.apache.spark.sql.execution.columnar.DefaultCachedBatchSerializer@5529031,StorageLevel(memory, 1 replicas),*(1) Filter isnotnull(channel_id#1663L)\n",
      "+- *(1) ColumnarToRow\n",
      "   +- FileScan parquet [admins#1662,channel_id#1663L,datetime#1664,media_type#1665,media_src#1666,message#1667,message_channel_to#1668L,message_from#1669L,message_group#1670L,message_id#1671L,message_to#1672L,message_ts#1673,reaction_from#1674,reaction_type#1675,subscription_channel#1676L,subscription_user#1677,tags#1678,user#1679,lat#1680,lon#1681,date#1682] Batched: true, DataFilters: [isnotnull(channel_id#1663L)], Format: Parquet, Location: InMemoryFileIndex(1 paths)[s3a://data-ice-lake-05/master/data/source/messenger-yp/events/event_ty..., PartitionFilters: [isnotnull(date#1682), (date#1682 = 2022-01-15)], PushedFilters: [IsNotNull(channel_id)], ReadSchema: struct<admins:array<bigint>,channel_id:bigint,datetime:timestamp,media_type:string,media_src:stri...\n",
      ",None)\n",
      "\n",
      "(3) Scan parquet \n",
      "Output [21]: [admins#1662, channel_id#1663L, datetime#1664, media_type#1665, media_src#1666, message#1667, message_channel_to#1668L, message_from#1669L, message_group#1670L, message_id#1671L, message_to#1672L, message_ts#1673, reaction_from#1674, reaction_type#1675, subscription_channel#1676L, subscription_user#1677, tags#1678, user#1679, lat#1680, lon#1681, date#1682]\n",
      "Batched: true\n",
      "Location: InMemoryFileIndex [s3a://data-ice-lake-05/master/data/source/messenger-yp/events/event_type=message]\n",
      "PartitionFilters: [isnotnull(date#1682), (date#1682 = 2022-01-15)]\n",
      "PushedFilters: [IsNotNull(channel_id)]\n",
      "ReadSchema: struct<admins:array<bigint>,channel_id:bigint,datetime:timestamp,media_type:string,media_src:string,message:string,message_channel_to:bigint,message_from:bigint,message_group:bigint,message_id:bigint,message_to:bigint,message_ts:timestamp,reaction_from:string,reaction_type:string,subscription_channel:bigint,subscription_user:string,tags:array<string>,user:string,lat:double,lon:double>\n",
      "\n",
      "(4) ColumnarToRow [codegen id : 1]\n",
      "Input [21]: [admins#1662, channel_id#1663L, datetime#1664, media_type#1665, media_src#1666, message#1667, message_channel_to#1668L, message_from#1669L, message_group#1670L, message_id#1671L, message_to#1672L, message_ts#1673, reaction_from#1674, reaction_type#1675, subscription_channel#1676L, subscription_user#1677, tags#1678, user#1679, lat#1680, lon#1681, date#1682]\n",
      "\n",
      "(5) Filter [codegen id : 1]\n",
      "Input [21]: [admins#1662, channel_id#1663L, datetime#1664, media_type#1665, media_src#1666, message#1667, message_channel_to#1668L, message_from#1669L, message_group#1670L, message_id#1671L, message_to#1672L, message_ts#1673, reaction_from#1674, reaction_type#1675, subscription_channel#1676L, subscription_user#1677, tags#1678, user#1679, lat#1680, lon#1681, date#1682]\n",
      "Condition : isnotnull(channel_id#1663L)\n",
      "\n",
      "(6) InMemoryTableScan\n",
      "Output [3]: [channel_id#3538L, admins#3537, datetime#3539]\n",
      "Arguments: [channel_id#3538L, admins#3537, datetime#3539]\n",
      "\n",
      "(7) InMemoryRelation\n",
      "Arguments: [admins#3537, channel_id#3538L, datetime#3539, media_type#3540, media_src#3541, message#3542, message_channel_to#3543L, message_from#3544L, message_group#3545L, message_id#3546L, message_to#3547L, message_ts#3548, reaction_from#3549, reaction_type#3550, subscription_channel#3551L, subscription_user#3552, tags#3553, user#3554, lat#3555, lon#3556, date#3557], CachedRDDBuilder(org.apache.spark.sql.execution.columnar.DefaultCachedBatchSerializer@5529031,StorageLevel(memory, 1 replicas),*(1) Filter isnotnull(channel_id#1663L)\n",
      "+- *(1) ColumnarToRow\n",
      "   +- FileScan parquet [admins#1662,channel_id#1663L,datetime#1664,media_type#1665,media_src#1666,message#1667,message_channel_to#1668L,message_from#1669L,message_group#1670L,message_id#1671L,message_to#1672L,message_ts#1673,reaction_from#1674,reaction_type#1675,subscription_channel#1676L,subscription_user#1677,tags#1678,user#1679,lat#1680,lon#1681,date#1682] Batched: true, DataFilters: [isnotnull(channel_id#1663L)], Format: Parquet, Location: InMemoryFileIndex(1 paths)[s3a://data-ice-lake-05/master/data/source/messenger-yp/events/event_ty..., PartitionFilters: [isnotnull(date#1682), (date#1682 = 2022-01-15)], PushedFilters: [IsNotNull(channel_id)], ReadSchema: struct<admins:array<bigint>,channel_id:bigint,datetime:timestamp,media_type:string,media_src:stri...\n",
      ",None)\n",
      "\n",
      "(8) Scan parquet \n",
      "Output [21]: [admins#1662, channel_id#1663L, datetime#1664, media_type#1665, media_src#1666, message#1667, message_channel_to#1668L, message_from#1669L, message_group#1670L, message_id#1671L, message_to#1672L, message_ts#1673, reaction_from#1674, reaction_type#1675, subscription_channel#1676L, subscription_user#1677, tags#1678, user#1679, lat#1680, lon#1681, date#1682]\n",
      "Batched: true\n",
      "Location: InMemoryFileIndex [s3a://data-ice-lake-05/master/data/source/messenger-yp/events/event_type=message]\n",
      "PartitionFilters: [isnotnull(date#1682), (date#1682 = 2022-01-15)]\n",
      "PushedFilters: [IsNotNull(channel_id)]\n",
      "ReadSchema: struct<admins:array<bigint>,channel_id:bigint,datetime:timestamp,media_type:string,media_src:string,message:string,message_channel_to:bigint,message_from:bigint,message_group:bigint,message_id:bigint,message_to:bigint,message_ts:timestamp,reaction_from:string,reaction_type:string,subscription_channel:bigint,subscription_user:string,tags:array<string>,user:string,lat:double,lon:double>\n",
      "\n",
      "(9) ColumnarToRow [codegen id : 1]\n",
      "Input [21]: [admins#1662, channel_id#1663L, datetime#1664, media_type#1665, media_src#1666, message#1667, message_channel_to#1668L, message_from#1669L, message_group#1670L, message_id#1671L, message_to#1672L, message_ts#1673, reaction_from#1674, reaction_type#1675, subscription_channel#1676L, subscription_user#1677, tags#1678, user#1679, lat#1680, lon#1681, date#1682]\n",
      "\n",
      "(10) Filter [codegen id : 1]\n",
      "Input [21]: [admins#1662, channel_id#1663L, datetime#1664, media_type#1665, media_src#1666, message#1667, message_channel_to#1668L, message_from#1669L, message_group#1670L, message_id#1671L, message_to#1672L, message_ts#1673, reaction_from#1674, reaction_type#1675, subscription_channel#1676L, subscription_user#1677, tags#1678, user#1679, lat#1680, lon#1681, date#1682]\n",
      "Condition : isnotnull(channel_id#1663L)\n",
      "\n",
      "(11) CartesianProduct\n",
      "Join type: Inner\n",
      "Join condition: None\n",
      "\n",
      "\n"
     ]
    }
   ],
   "source": [
    "df1.join(df2, how='cross').explain(mode='formatted')"
   ]
  },
  {
   "cell_type": "code",
   "execution_count": 68,
   "metadata": {},
   "outputs": [
    {
     "data": {
      "text/plain": [
       "DataFrame[admins: array<bigint>, channel_id: bigint, datetime: timestamp, media_type: string, media_src: string, message: string, message_channel_to: bigint, message_from: bigint, message_group: bigint, message_id: bigint, message_to: bigint, message_ts: timestamp, reaction_from: string, reaction_type: string, subscription_channel: bigint, subscription_user: string, tags: array<string>, user: string, lat: double, lon: double, date: date]"
      ]
     },
     "execution_count": 68,
     "metadata": {},
     "output_type": "execute_result"
    }
   ],
   "source": [
    "file.unpersist()"
   ]
  },
  {
   "cell_type": "code",
   "execution_count": 69,
   "metadata": {},
   "outputs": [
    {
     "name": "stderr",
     "output_type": "stream",
     "text": [
      "                                                                                \r"
     ]
    }
   ],
   "source": [
    "df = spark.read.parquet(\n",
    "    \"s3a://data-ice-lake-05/master/data/source/messenger-yp/events/event_type=message\", mergeSchema=True\n",
    ").where((F.col(\"date\") >= \"2022-01-15\") & (F.col('date') <= \"2022-05-15\") & (F.col('message_from').isNotNull())).select(\"message_from\", 'message_id', 'message_ts', 'datetime', 'lat','lon')"
   ]
  },
  {
   "cell_type": "code",
   "execution_count": 71,
   "metadata": {},
   "outputs": [],
   "source": [
    "df = (\n",
    "    df\n",
    "        .withColumn(\n",
    "                    \"msg_ts\",\n",
    "                    F.when(F.col(\"message_ts\").isNotNull(), F.col(\"message_ts\")).otherwise(\n",
    "                        F.col(\"datetime\")\n",
    "                    ),\n",
    "                )\n",
    "                .drop(\"message_ts\", \"datetime\")\n",
    "        )"
   ]
  },
  {
   "cell_type": "code",
   "execution_count": 72,
   "metadata": {},
   "outputs": [
    {
     "name": "stdout",
     "output_type": "stream",
     "text": [
      "== Physical Plan ==\n",
      "* Project (4)\n",
      "+- * Filter (3)\n",
      "   +- * ColumnarToRow (2)\n",
      "      +- Scan parquet  (1)\n",
      "\n",
      "\n",
      "(1) Scan parquet \n",
      "Output [7]: [datetime#4197, message_from#4202L, message_id#4204L, message_ts#4206, lat#4213, lon#4214, date#4215]\n",
      "Batched: true\n",
      "Location: InMemoryFileIndex [s3a://data-ice-lake-05/master/data/source/messenger-yp/events/event_type=message]\n",
      "PartitionFilters: [isnotnull(date#4215), (date#4215 >= 2022-01-15), (date#4215 <= 2022-05-15)]\n",
      "PushedFilters: [IsNotNull(message_from)]\n",
      "ReadSchema: struct<datetime:timestamp,message_from:bigint,message_id:bigint,message_ts:timestamp,lat:double,lon:double>\n",
      "\n",
      "(2) ColumnarToRow [codegen id : 1]\n",
      "Input [7]: [datetime#4197, message_from#4202L, message_id#4204L, message_ts#4206, lat#4213, lon#4214, date#4215]\n",
      "\n",
      "(3) Filter [codegen id : 1]\n",
      "Input [7]: [datetime#4197, message_from#4202L, message_id#4204L, message_ts#4206, lat#4213, lon#4214, date#4215]\n",
      "Condition : isnotnull(message_from#4202L)\n",
      "\n",
      "(4) Project [codegen id : 1]\n",
      "Output [5]: [message_from#4202L, message_id#4204L, lat#4213, lon#4214, CASE WHEN isnotnull(message_ts#4206) THEN message_ts#4206 ELSE datetime#4197 END AS msg_ts#4244]\n",
      "Input [7]: [datetime#4197, message_from#4202L, message_id#4204L, message_ts#4206, lat#4213, lon#4214, date#4215]\n",
      "\n",
      "\n"
     ]
    }
   ],
   "source": [
    "df.explain(mode='formatted')"
   ]
  },
  {
   "cell_type": "code",
   "execution_count": null,
   "metadata": {},
   "outputs": [],
   "source": []
  }
 ],
 "metadata": {
  "kernelspec": {
   "display_name": "app-9TtSrW0h-py3.11",
   "language": "python",
   "name": "python3"
  },
  "language_info": {
   "codemirror_mode": {
    "name": "ipython",
    "version": 3
   },
   "file_extension": ".py",
   "mimetype": "text/x-python",
   "name": "python",
   "nbconvert_exporter": "python",
   "pygments_lexer": "ipython3",
   "version": "3.11.5"
  },
  "orig_nbformat": 4
 },
 "nbformat": 4,
 "nbformat_minor": 2
}
